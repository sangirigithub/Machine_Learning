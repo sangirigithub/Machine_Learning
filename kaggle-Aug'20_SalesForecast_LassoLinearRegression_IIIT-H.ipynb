{
  "nbformat": 4,
  "nbformat_minor": 0,
  "metadata": {
    "colab": {
      "name": "M3_Mini_Hackathon2_SalesForecast_Kaggle.ipynb",
      "provenance": [],
      "collapsed_sections": []
    },
    "kernelspec": {
      "name": "python3",
      "display_name": "Python 3"
    }
  },
  "cells": [
    {
      "cell_type": "markdown",
      "metadata": {
        "id": "-Va8_ShN-EKe",
        "colab_type": "text"
      },
      "source": [
        "# Advanced Certification in AIML\n",
        "## A Program by IIIT-H and TalentSprint\n"
      ]
    },
    {
      "cell_type": "markdown",
      "metadata": {
        "id": "vTR13JSwqdIz",
        "colab_type": "text"
      },
      "source": [
        "## Objectives"
      ]
    },
    {
      "cell_type": "markdown",
      "metadata": {
        "id": "7y71HP1yqIVh",
        "colab_type": "text"
      },
      "source": [
        "\n",
        "Sales forecasting is the process of estimating future sales. Accurate sales forecasts enable companies to make sound business decisions and predict short-term or long-term performance. Forecasts could be based on data such as past sales, industry-wide comparisons and economic trends.\n",
        "\n",
        "A leading retailer in USA wants to forecast sales for their product categories in their store, based on the sales history of each category. Sales or revenues forecasting is very important for retail operations. Forecasting of retail sales helps the retailer to take necessary measures to plan their budgets or investments in a period (monthly, yearly) among different product\n",
        "categories like women's clothing, men's clothing and other clothing. Further, they can plan to minimize revenue loss from unavailability of products by investing accordingly.\n",
        "\n",
        "**Note: This data is proprietary. Please DO NOT share the dataset with anyone. The solution python notebook and test solution will not be provided.** </br>"
      ]
    },
    {
      "cell_type": "code",
      "metadata": {
        "id": "k3gUqgqPruR2",
        "colab_type": "code",
        "cellView": "form",
        "colab": {
          "base_uri": "https://localhost:8080/",
          "height": 321
        },
        "outputId": "0247e5fe-ca8e-4758-cb69-bee842a0c31c"
      },
      "source": [
        "#@title Mini Hackathon Walkthrough Video\n",
        "from IPython.display import HTML\n",
        "\n",
        "HTML(\"\"\"<video width=\"500\" height=\"300\" controls>\n",
        "  <source src=\"https://cdn.talentsprint.com/talentsprint1/archives/sc/aiml/mini_hackathon_walkthrough.mp4\" type=\"video/mp4\">\n",
        "</video>\n",
        "\"\"\")"
      ],
      "execution_count": null,
      "outputs": [
        {
          "output_type": "execute_result",
          "data": {
            "text/html": [
              "<video width=\"500\" height=\"300\" controls>\n",
              "  <source src=\"https://cdn.talentsprint.com/talentsprint1/archives/sc/aiml/mini_hackathon_walkthrough.mp4\" type=\"video/mp4\">\n",
              "</video>\n"
            ],
            "text/plain": [
              "<IPython.core.display.HTML object>"
            ]
          },
          "metadata": {
            "tags": []
          },
          "execution_count": 1
        }
      ]
    },
    {
      "cell_type": "markdown",
      "metadata": {
        "id": "Gd9eW6oErumQ",
        "colab_type": "text"
      },
      "source": [
        "## Kaggle link and deadline:\n",
        "\n",
        "\n",
        "### 1. Link to the Kaggle problem: https://www.kaggle.com/t/5fa027f6da7745219fd0a748107d8677\n",
        "\n",
        "### 2. Deadlines:\n",
        "  - **Competition closes at** 6:00 pm, 1st Aug 2020 IST\n",
        "  - **Submit this Colab file with code to aimlkaggle@gmail.com:** \n",
        "      \n",
        "      7.00pm 1st Aug 2020 IST"
      ]
    },
    {
      "cell_type": "markdown",
      "metadata": {
        "id": "weuRWUlsJJYZ",
        "colab_type": "text"
      },
      "source": [
        "## Instructions:\n",
        "\n",
        "- Refer to the document **M3_MiniHackathon2 - Kaggle Team Creation** for creating a Kaggle account and access the kaggle problem. Follow the steps for Team creation in Kaggle.  \n",
        "- Under the 'Data' tab within the Kaggle competition page (link above), you can find four datasets. Their attributes are given in the \"Attributes description\".\n",
        "- Follow **Stage 1** for downloading the data \n",
        "- Combine the datasets and apply data-preprocessing to obtain a clean training dataset\n",
        "- Build your own model using any algorithms learnt till now\n",
        "- **Get the Sales predictions for 2015 month-wise and product-wise** (36 rows)\n",
        "- Copy and paste the predictions in column B (Sales(In ThousandDollars)) of the **Sample_Submission csv file** (ignore the headers)\n",
        "- Upload the Sample_Submission csv file into Kaggle by clicking on Submit Predictions in Kaggle.\n",
        "- The leaderboard takes and reflects your best submission until the specified deadline (maximum of 20 submissions per day per team). \n",
        "\n",
        "### **Important: Only the Public Leaderboard rankings are valid, not the Private Leaderboard rankings.**"
      ]
    },
    {
      "cell_type": "markdown",
      "metadata": {
        "id": "-eiP0XYwsC1F",
        "colab_type": "text"
      },
      "source": [
        "## Evaluation: \n",
        "Evaluation will be done based on the teams placed in the Kaggle leaderboard\n",
        "\n",
        "**TotalMarks=20**\n",
        "- Top 5 teams will be awarded 20 marks\n",
        "- 6-10 teams will be awarded 18\n",
        "- 11-15 teams will be awarded 16\n",
        "- 16-20 teams will be awarded 14\n",
        "- Rest of the teams will be awarded 12\n",
        "- **0 Marks in case of 0 submssions**\n",
        " "
      ]
    },
    {
      "cell_type": "markdown",
      "metadata": {
        "id": "xdToUNf_7tuL",
        "colab_type": "text"
      },
      "source": [
        " ## Finally..\n",
        "    Don't cheat!\n",
        "    Apply yourself!\n",
        "    Have fun!\n"
      ]
    },
    {
      "cell_type": "markdown",
      "metadata": {
        "id": "p7aNpuWy-qMy",
        "colab_type": "text"
      },
      "source": [
        "## **Stage1:** Setting up colab for Kaggle competitions \n",
        "This setup helps you directly access the datasets etc of the Kaggle competition."
      ]
    },
    {
      "cell_type": "markdown",
      "metadata": {
        "id": "Uliba9i7bGFB",
        "colab_type": "text"
      },
      "source": [
        "### 1. Create an API key in Kaggle.\n",
        "\n",
        "To do this, go to kaggle.com/ and open your user settings page. Click My Account.\n",
        "\n",
        "![alt text](https://i.stack.imgur.com/jxGQv.png\n",
        ")\n",
        "\n"
      ]
    },
    {
      "cell_type": "markdown",
      "metadata": {
        "id": "DkzGffHdbwX2",
        "colab_type": "text"
      },
      "source": [
        "### 2. Next, scroll down to the API access section and click generate to download an API key. \n",
        "![alt text](https://i.stack.imgur.com/Hzlhp.png)"
      ]
    },
    {
      "cell_type": "markdown",
      "metadata": {
        "id": "WtETuXx8b-OC",
        "colab_type": "text"
      },
      "source": [
        "### 3. Upload your kaggle.json file using the following snippet in a code cell:\n",
        "\n"
      ]
    },
    {
      "cell_type": "code",
      "metadata": {
        "id": "-1pfXBDxWl0Y",
        "colab_type": "code",
        "colab": {
          "resources": {
            "http://localhost:8080/nbextensions/google.colab/files.js": {
              "data": "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",
              "ok": true,
              "headers": [
                [
                  "content-type",
                  "application/javascript"
                ]
              ],
              "status": 200,
              "status_text": ""
            }
          },
          "base_uri": "https://localhost:8080/",
          "height": 89
        },
        "outputId": "ad13dc03-e5de-436f-89ea-eb607b6d5e5c"
      },
      "source": [
        "from google.colab import files\n",
        "files.upload()"
      ],
      "execution_count": null,
      "outputs": [
        {
          "output_type": "display_data",
          "data": {
            "text/html": [
              "\n",
              "     <input type=\"file\" id=\"files-ffd277dd-973c-4123-8447-56e14d054241\" name=\"files[]\" multiple disabled\n",
              "        style=\"border:none\" />\n",
              "     <output id=\"result-ffd277dd-973c-4123-8447-56e14d054241\">\n",
              "      Upload widget is only available when the cell has been executed in the\n",
              "      current browser session. Please rerun this cell to enable.\n",
              "      </output>\n",
              "      <script src=\"/nbextensions/google.colab/files.js\"></script> "
            ],
            "text/plain": [
              "<IPython.core.display.HTML object>"
            ]
          },
          "metadata": {
            "tags": []
          }
        },
        {
          "output_type": "stream",
          "text": [
            "Saving kaggle.json to kaggle.json\n"
          ],
          "name": "stdout"
        },
        {
          "output_type": "execute_result",
          "data": {
            "text/plain": [
              "{'kaggle.json': b'{\"username\":\"sandhyayenugula\",\"key\":\"a535fc8aa027fd3dbc2b2ed57170d688\"}'}"
            ]
          },
          "metadata": {
            "tags": []
          },
          "execution_count": 2
        }
      ]
    },
    {
      "cell_type": "code",
      "metadata": {
        "id": "GCV_T6MMW4eX",
        "colab_type": "code",
        "colab": {
          "base_uri": "https://localhost:8080/",
          "height": 34
        },
        "outputId": "3b3f69c0-7d02-4a26-e10a-d9f70febc0de"
      },
      "source": [
        "#If successfully uploaded in the above step, the 'ls' command here should display the kaggle.json file.\n",
        "%ls"
      ],
      "execution_count": null,
      "outputs": [
        {
          "output_type": "stream",
          "text": [
            "kaggle.json  \u001b[0m\u001b[01;34msample_data\u001b[0m/\n"
          ],
          "name": "stdout"
        }
      ]
    },
    {
      "cell_type": "markdown",
      "metadata": {
        "id": "JbukdzJ6cE32",
        "colab_type": "text"
      },
      "source": [
        "### 4. Install the kaggle API using following command\n"
      ]
    },
    {
      "cell_type": "code",
      "metadata": {
        "id": "dMj1n1MJcqzN",
        "colab_type": "code",
        "colab": {}
      },
      "source": [
        "!pip install -q kaggle"
      ],
      "execution_count": null,
      "outputs": []
    },
    {
      "cell_type": "markdown",
      "metadata": {
        "id": "3Vpy9P1nchhd",
        "colab_type": "text"
      },
      "source": [
        "### 5. Move the kaggle.json file into ~/.kaggle, which is where the API client expects your token to be located:\n",
        "\n"
      ]
    },
    {
      "cell_type": "code",
      "metadata": {
        "id": "yQbPsDOLZ0b4",
        "colab_type": "code",
        "colab": {}
      },
      "source": [
        "!mkdir -p ~/.kaggle\n",
        "!cp kaggle.json ~/.kaggle/"
      ],
      "execution_count": null,
      "outputs": []
    },
    {
      "cell_type": "code",
      "metadata": {
        "id": "BenAWlpI73sm",
        "colab_type": "code",
        "colab": {
          "base_uri": "https://localhost:8080/",
          "height": 34
        },
        "outputId": "f448cf4d-96f8-428e-ffc9-c780885ac8ec"
      },
      "source": [
        "#Execute the following command to verify whether the kaggle.json is stored in the appropriate location: ~/.kaggle/kaggle.json\n",
        "!ls ~/.kaggle"
      ],
      "execution_count": null,
      "outputs": [
        {
          "output_type": "stream",
          "text": [
            "kaggle.json\n"
          ],
          "name": "stdout"
        }
      ]
    },
    {
      "cell_type": "code",
      "metadata": {
        "id": "vm2jGsCradOS",
        "colab_type": "code",
        "colab": {}
      },
      "source": [
        "!chmod 600 /root/.kaggle/kaggle.json #run this command to ensure your Kaggle API token is secure on colab"
      ],
      "execution_count": null,
      "outputs": []
    },
    {
      "cell_type": "markdown",
      "metadata": {
        "id": "32unPZKzdI72",
        "colab_type": "text"
      },
      "source": [
        "### 6. Now download the data"
      ]
    },
    {
      "cell_type": "code",
      "metadata": {
        "id": "YxOfqP10I6k8",
        "colab_type": "code",
        "colab": {}
      },
      "source": [
        "!mkdir data"
      ],
      "execution_count": null,
      "outputs": []
    },
    {
      "cell_type": "markdown",
      "metadata": {
        "id": "ppuy5gRKHFwv",
        "colab_type": "text"
      },
      "source": [
        "**NOTE: If you get a '404 - Not Found' error after running the cell below, it is mostly likely that the user (whose kaggle.json is uploaded above) has not 'accepted' the rules of the competition and therefore has 'not joined' the competition.**"
      ]
    },
    {
      "cell_type": "code",
      "metadata": {
        "id": "TY40TmgfHq0s",
        "colab_type": "code",
        "colab": {
          "base_uri": "https://localhost:8080/",
          "height": 391
        },
        "outputId": "61889676-365d-4c05-ad5c-38e5742b6e35"
      },
      "source": [
        "#If you get a forbidden link, you have most likely not joined the competition.\n",
        "!kaggle competitions download -c retail-case-study-batch14 -p data"
      ],
      "execution_count": null,
      "outputs": [
        {
          "output_type": "stream",
          "text": [
            "Warning: Looks like you're using an outdated API Version, please consider updating (server 1.5.6 / client 1.5.4)\n",
            "Downloading AttributesDescription.xlsx to data\n",
            "  0% 0.00/10.2k [00:00<?, ?B/s]\n",
            "100% 10.2k/10.2k [00:00<00:00, 19.4MB/s]\n",
            "Downloading MacroEconomicData.xlsx to data\n",
            "  0% 0.00/17.4k [00:00<?, ?B/s]\n",
            "100% 17.4k/17.4k [00:00<00:00, 14.6MB/s]\n",
            "Downloading WeatherData.xlsx to data\n",
            "  0% 0.00/281k [00:00<?, ?B/s]\n",
            "100% 281k/281k [00:00<00:00, 94.5MB/s]\n",
            "Downloading Test_Kaggle.csv to data\n",
            "  0% 0.00/793 [00:00<?, ?B/s]\n",
            "100% 793/793 [00:00<00:00, 694kB/s]\n",
            "Downloading Sample_Submission.csv to data\n",
            "  0% 0.00/309 [00:00<?, ?B/s]\n",
            "100% 309/309 [00:00<00:00, 261kB/s]\n",
            "Downloading Events_HolidaysData.xlsx to data\n",
            "  0% 0.00/12.4k [00:00<?, ?B/s]\n",
            "100% 12.4k/12.4k [00:00<00:00, 10.5MB/s]\n",
            "Downloading Train_Kaggle.csv to data\n",
            "  0% 0.00/5.31k [00:00<?, ?B/s]\n",
            "100% 5.31k/5.31k [00:00<00:00, 4.50MB/s]\n"
          ],
          "name": "stdout"
        }
      ]
    },
    {
      "cell_type": "markdown",
      "metadata": {
        "id": "vBEOG2swe2rd",
        "colab_type": "text"
      },
      "source": [
        "## **Stage 2:** YOUR CODE to crack the Kaggle problem here. \n",
        "\n",
        "1.  Get the Sales prediction for the 2015 month-wise and product-wise (which give 36 rows). The product order for every month prediction can be as per test_kaggle.csv file.\n",
        "\n",
        "2.  Copy and paste the predictions in Sample_Submission.csv (in Sales(In ThousandDollars)) and upload into Kaggle. \n",
        "\n",
        "After uploading the predictions in Kaggle, the RMSE score will be displayed on leaderboard.\n",
        "\n",
        "Understand the RMSE score [here](https://medium.com/analytics-vidhya/forecast-kpi-rmse-mae-mape-bias-cdc5703d242d) with an example.\n",
        "\n",
        "**Note: It is best advised to write all the code here. (If for any reason you are using other colab files, you could cut and paste the code from there into this notebook)**"
      ]
    },
    {
      "cell_type": "markdown",
      "metadata": {
        "id": "bwhkxlcSXcW0",
        "colab_type": "text"
      },
      "source": [
        "## 1) Data Munging and Feature Selection"
      ]
    },
    {
      "cell_type": "code",
      "metadata": {
        "id": "ucsCey0AyBtG",
        "colab_type": "code",
        "colab": {
          "base_uri": "https://localhost:8080/",
          "height": 34
        },
        "outputId": "bfc08171-d931-4466-a569-97f9e856987f"
      },
      "source": [
        "!ls"
      ],
      "execution_count": null,
      "outputs": [
        {
          "output_type": "stream",
          "text": [
            "data  kaggle.json  sample_data\n"
          ],
          "name": "stdout"
        }
      ]
    },
    {
      "cell_type": "code",
      "metadata": {
        "id": "ecBZZbg5fULj",
        "colab_type": "code",
        "colab": {}
      },
      "source": [
        "#  <All Code here>\n",
        "\n",
        "import pandas as pd\n",
        "import numpy as np\n",
        "\n",
        "from sklearn import linear_model\n",
        "from sklearn.model_selection import train_test_split\n",
        "from sklearn.metrics import mean_squared_error\n",
        "from sklearn.impute import SimpleImputer\n",
        "\n",
        "from sklearn.preprocessing import StandardScaler\n",
        "from sklearn.neighbors import KNeighborsRegressor\n",
        "from sklearn.tree import DecisionTreeRegressor\n",
        "from sklearn.ensemble import RandomForestRegressor"
      ],
      "execution_count": null,
      "outputs": []
    },
    {
      "cell_type": "markdown",
      "metadata": {
        "id": "KReTW79z3cV3",
        "colab_type": "text"
      },
      "source": [
        "Set Data Folder Path"
      ]
    },
    {
      "cell_type": "code",
      "metadata": {
        "id": "wD7FmUhtyehk",
        "colab_type": "code",
        "colab": {}
      },
      "source": [
        "# from google.colab import drive\n",
        "# drive.mount('/content/drive') # Go to the URL appearing below"
      ],
      "execution_count": null,
      "outputs": []
    },
    {
      "cell_type": "code",
      "metadata": {
        "id": "iSdz8p48yHH_",
        "colab_type": "code",
        "colab": {
          "base_uri": "https://localhost:8080/",
          "height": 255
        },
        "outputId": "b975d1b0-4f8f-4dce-9ab4-184a05de460e"
      },
      "source": [
        "#data_folder = '/content/drive/My Drive/IIIT_AI_ML_Colab_Notebooks/3_M3_36_01Aug_MiniHackathon_SalesForecast/Data/'\n",
        "data_folder = '/content/data/'\n",
        "\n",
        "print(data_folder)\n",
        "\n",
        "train_file = 'Train_Kaggle.csv'\n",
        "holidays_file = 'Events_HolidaysData.xlsx'\n",
        "weather_file = 'WeatherData.xlsx'\n",
        "economic_file = 'MacroEconomicData.xlsx'\n",
        "\n",
        "test_file = 'Test_Kaggle.csv'\n",
        "submission_file = 'Sample_Submission.csv'\n",
        "\n",
        "print(train_file, \" \", holidays_file, \" \",  weather_file, \" \", economic_file, \" \",test_file, \" \", submission_file)\n",
        "\n",
        "month_no = {'Jan':1, 'Feb':2, 'Mar':3, 'Apr':4, 'May':5, 'Jun':6, 'Jul':7, 'Aug':8, 'Sep':9, 'Oct':10, 'Nov':11, 'Dec':12}\n",
        "month_no"
      ],
      "execution_count": null,
      "outputs": [
        {
          "output_type": "stream",
          "text": [
            "/content/data/\n",
            "Train_Kaggle.csv   Events_HolidaysData.xlsx   WeatherData.xlsx   MacroEconomicData.xlsx   Test_Kaggle.csv   Sample_Submission.csv\n"
          ],
          "name": "stdout"
        },
        {
          "output_type": "execute_result",
          "data": {
            "text/plain": [
              "{'Apr': 4,\n",
              " 'Aug': 8,\n",
              " 'Dec': 12,\n",
              " 'Feb': 2,\n",
              " 'Jan': 1,\n",
              " 'Jul': 7,\n",
              " 'Jun': 6,\n",
              " 'Mar': 3,\n",
              " 'May': 5,\n",
              " 'Nov': 11,\n",
              " 'Oct': 10,\n",
              " 'Sep': 9}"
            ]
          },
          "metadata": {
            "tags": []
          },
          "execution_count": 13
        }
      ]
    },
    {
      "cell_type": "markdown",
      "metadata": {
        "id": "70lXSyF3pq2B",
        "colab_type": "text"
      },
      "source": [
        "a. Clean Train Dataframe"
      ]
    },
    {
      "cell_type": "code",
      "metadata": {
        "id": "Nn8WujwonQm3",
        "colab_type": "code",
        "colab": {
          "base_uri": "https://localhost:8080/",
          "height": 289
        },
        "outputId": "2471c5bd-1c17-4817-cbb6-9e5b1a1ed7b5"
      },
      "source": [
        "# 1. Clean Train Dataframe\n",
        "df_train = pd.read_csv(data_folder + train_file)\n",
        "# df_train # 6 Years * 12 Months * 3 ProductCategories = 216 (2009 2010 2011 2012 2013 2014)\n",
        "\n",
        "#df_train.drop(df_train[df_train['Year'].isin([2015,2016])].index, axis=1 , inplace=True)\n",
        "df_train['Sales(In ThousandDollars)'] = df_train['Sales(In ThousandDollars)'].fillna((df_train['Sales(In ThousandDollars)'].mean()))\n",
        "# Based on Category, apply mean for NaNs\n",
        "\n",
        "#df_train = pd.get_dummies(df_train, prefix='ProductCategory')\n",
        "df_train['ProductCategory'] = pd.Categorical(df_train['ProductCategory'])\n",
        "df_train['ProductCategory'] = df_train['ProductCategory'].cat.codes  \n",
        "\n",
        "print(\"[2015, 2016] Data set len - \", len(df_train[df_train['Year'].isin([2015, 2016])]))\n",
        "\n",
        "print(\"+++++++  Holiday Train data +++++++   \")\n",
        "print(\"Shape - \", df_train.shape)\n",
        "print(df_train['Year'].value_counts())\n",
        "print(df_train.head())"
      ],
      "execution_count": null,
      "outputs": [
        {
          "output_type": "stream",
          "text": [
            "[2015, 2016] Data set len -  0\n",
            "+++++++  Holiday Train data +++++++   \n",
            "Shape -  (216, 4)\n",
            "2014    36\n",
            "2013    36\n",
            "2012    36\n",
            "2011    36\n",
            "2010    36\n",
            "2009    36\n",
            "Name: Year, dtype: int64\n",
            "   Year  Month  ProductCategory  Sales(In ThousandDollars)\n",
            "0  2009      1                2                     1755.0\n",
            "1  2009      1                0                      524.0\n",
            "2  2009      1                1                      936.0\n",
            "3  2009      2                2                     1729.0\n",
            "4  2009      2                0                      496.0\n"
          ],
          "name": "stdout"
        }
      ]
    },
    {
      "cell_type": "markdown",
      "metadata": {
        "colab_type": "text",
        "id": "y8LmiTGWrHFG"
      },
      "source": [
        "b. Clean Holidays Dataframe"
      ]
    },
    {
      "cell_type": "code",
      "metadata": {
        "id": "Kh5U9ItArQU0",
        "colab_type": "code",
        "colab": {
          "base_uri": "https://localhost:8080/",
          "height": 122
        },
        "outputId": "6072d103-7a47-4f6f-d256-c6aa2f2d394c"
      },
      "source": [
        "# 2. Clean Holidays Dataframe\n",
        "df_holidays = pd.read_excel(data_folder + holidays_file)\n",
        "df_holidays['MonthDate'] = pd.to_datetime(df_holidays['MonthDate'])# datetime conversio first; # DatetimeIndex can also be used simpler\n",
        "df_holidays['MonthDate'] = df_holidays['MonthDate'].dt.strftime('%b-%d') # mmm-dd format, mmm - %b, month-%B\n",
        "\n",
        "print(\"Shape BEFORE - \", df_holidays.shape)\n",
        "df_holidays.columns\n",
        "#df_holidays['Year'] = df_holidays['Year'].fillna(df_holidays['Year'].mode().iat[0])\n",
        "df_holidays['Year'] = df_holidays['Year'].fillna(2013)\n",
        "df_holidays['Year'] = df_holidays['Year'].astype(int)\n",
        "df_holidays[['Month', 'Date']] = df_holidays['MonthDate'].str.split('-', expand=True) # from Colab \"data\" folder\n",
        "\n",
        "df_holidays = df_holidays.replace({\"Month\":month_no})\n",
        "df_holidays = pd.get_dummies(df_holidays, columns=['DayCategory']) #, prefix='HolidayType_')\n",
        "\n",
        "df_holidays.drop(['MonthDate','Date', 'Event'], axis=1, inplace=True) # Drop unnecessary columns\n",
        "df_holidays = df_holidays.groupby(['Year', 'Month'], as_index=False)['DayCategory_Event','DayCategory_Federal Holiday'].sum()\n",
        "\n",
        "print(\"Train data set len - \", len(df_holidays[df_holidays['Year'].isin([2009, 2010, 2011, 2012, 2013, 2014])]))\n",
        "print(\"[2015, 2016] Data set len - \", len(df_holidays[df_holidays['Year'].isin([2015, 2016])]))\n",
        "print(\"Test data set len - \", len(df_holidays[df_holidays['Year'].isin([2015])]))"
      ],
      "execution_count": null,
      "outputs": [
        {
          "output_type": "stream",
          "text": [
            "Shape BEFORE -  (150, 4)\n",
            "Train data set len -  60\n",
            "[2015, 2016] Data set len -  21\n",
            "Test data set len -  10\n"
          ],
          "name": "stdout"
        },
        {
          "output_type": "stream",
          "text": [
            "/usr/local/lib/python3.6/dist-packages/ipykernel_launcher.py:17: FutureWarning: Indexing with multiple keys (implicitly converted to a tuple of keys) will be deprecated, use a list instead.\n"
          ],
          "name": "stderr"
        }
      ]
    },
    {
      "cell_type": "code",
      "metadata": {
        "id": "a39JW210Svd5",
        "colab_type": "code",
        "colab": {
          "base_uri": "https://localhost:8080/",
          "height": 442
        },
        "outputId": "bb97f350-de0a-4a9e-86b6-0aa502b7c6f9"
      },
      "source": [
        "df_holidays_Train = df_holidays[df_holidays['Year'].isin([2009, 2010, 2011, 2012, 2013, 2014])]\n",
        "df_holidays_Test = df_holidays[df_holidays['Year'].isin([2015])]\n",
        "\n",
        "print(\"+++++++  Holiday Train data +++++++   \")\n",
        "print(\"Shape - \", df_holidays_Train.shape)\n",
        "print(df_holidays_Train['Year'].value_counts())\n",
        "print(df_holidays_Train.head())\n",
        "\n",
        "print(\"+++++++  Holiday Test data +++++++   \")\n",
        "print(\"Shape - \", df_holidays_Test.shape)\n",
        "print(df_holidays_Test['Year'].value_counts())\n",
        "print(df_holidays_Test.head())"
      ],
      "execution_count": null,
      "outputs": [
        {
          "output_type": "stream",
          "text": [
            "+++++++  Holiday Train data +++++++   \n",
            "Shape -  (60, 4)\n",
            "2014    10\n",
            "2013    10\n",
            "2012    10\n",
            "2011    10\n",
            "2010    10\n",
            "2009    10\n",
            "Name: Year, dtype: int64\n",
            "   Year  Month  DayCategory_Event  DayCategory_Federal Holiday\n",
            "0  2009      1                  0                            2\n",
            "1  2009      2                  1                            1\n",
            "2  2009      4                  1                            0\n",
            "3  2009      5                  1                            1\n",
            "4  2009      6                  1                            0\n",
            "+++++++  Holiday Test data +++++++   \n",
            "Shape -  (10, 4)\n",
            "2015    10\n",
            "Name: Year, dtype: int64\n",
            "    Year  Month  DayCategory_Event  DayCategory_Federal Holiday\n",
            "60  2015      1                  0                            2\n",
            "61  2015      2                  1                            1\n",
            "62  2015      4                  2                            0\n",
            "63  2015      5                  1                            1\n",
            "64  2015      6                  1                            0\n"
          ],
          "name": "stdout"
        }
      ]
    },
    {
      "cell_type": "markdown",
      "metadata": {
        "colab_type": "text",
        "id": "ouXt-ckau7Ic"
      },
      "source": [
        "c. Clean Weather Dataframe"
      ]
    },
    {
      "cell_type": "code",
      "metadata": {
        "id": "1L19EBC3vWX6",
        "colab_type": "code",
        "colab": {
          "base_uri": "https://localhost:8080/",
          "height": 122
        },
        "outputId": "efdbf829-b497-465f-f878-7116d42be2c3"
      },
      "source": [
        "# 3. Clean Weather Dataframe  \n",
        "df_weather_file = pd.ExcelFile(data_folder + weather_file)\n",
        "df_weather = pd.read_excel(df_weather_file, sheet_name = df_weather_file.sheet_names)\n",
        "df_weather = pd.concat(df_weather[k] for k in df_weather.keys())\n",
        "\n",
        "print(\"Shape BEFORE - \", df_weather.shape)\n",
        "\n",
        "df_weather = df_weather.replace({\"Month\":month_no})\n",
        "df_weather = df_weather.apply(pd.to_numeric, errors='coerce') # Using coerce - Returns NANs if not convertible, say string values - avg, high\n",
        "df_weather = df_weather.replace('-', np.nan)\n",
        "\n",
        "df_weather['Year'] = df_weather['Year'].fillna(df_weather['Year'].mode().iat[0])\n",
        "df_weather['Month'] = df_weather['Month'].fillna(df_weather['Month'].mode().iat[0])\n",
        "df_weather[['Year','Month']] = df_weather[['Year','Month']].astype(int)\n",
        "\n",
        "df_weather.drop(['WeatherEvent'], axis=1, inplace=True)\n",
        "\n",
        "df_weather = df_weather.groupby(['Year', 'Month'], as_index=False)['Temp avg (°C)',\n",
        "      'Dew Point avg (°C)',\n",
        "      'Humidity\\xa0(%) avg',\n",
        "      'Sea Level Press.\\xa0(hPa) avg',\n",
        "      'Visibility\\xa0(km) avg', \n",
        "      'Wind\\xa0(km/h) avg'].mean()\n",
        "\n",
        "print(\"Train data set len - \", len(df_weather[df_weather['Year'].isin([2009, 2010, 2011, 2012, 2013, 2014])]))\n",
        "print(\"[2015, 2016] Data set len - \", len(df_weather[df_weather['Year'].isin([2015, 2016])]))\n",
        "print(\"Test data set len - \", len(df_weather[df_weather['Year'].isin([2015])]))"
      ],
      "execution_count": null,
      "outputs": [
        {
          "output_type": "stream",
          "text": [
            "Shape BEFORE -  (2923, 23)\n",
            "Train data set len -  72\n",
            "[2015, 2016] Data set len -  24\n",
            "Test data set len -  12\n"
          ],
          "name": "stdout"
        },
        {
          "output_type": "stream",
          "text": [
            "/usr/local/lib/python3.6/dist-packages/ipykernel_launcher.py:23: FutureWarning: Indexing with multiple keys (implicitly converted to a tuple of keys) will be deprecated, use a list instead.\n"
          ],
          "name": "stderr"
        }
      ]
    },
    {
      "cell_type": "code",
      "metadata": {
        "id": "wBA8wD5tcYCM",
        "colab_type": "code",
        "colab": {
          "base_uri": "https://localhost:8080/",
          "height": 510
        },
        "outputId": "0c39ad46-f5eb-4bf9-b16c-823291e94240"
      },
      "source": [
        "df_weather_Train = df_weather[df_weather['Year'].isin([2009, 2010, 2011, 2012, 2013, 2014])]\n",
        "df_weather_Test = df_weather[df_weather['Year'].isin([2015])]\n",
        "\n",
        "print(\"+++++++  Weather Train data +++++++   \")\n",
        "print(\"Shape - \", df_weather_Train.shape)\n",
        "print(df_weather_Train['Year'].value_counts())\n",
        "print(df_weather_Train.head())\n",
        "\n",
        "print(\"+++++++  Weather Test data +++++++   \")\n",
        "print(\"Shape - \", df_weather_Test.shape)\n",
        "print(df_weather_Test['Year'].value_counts())\n",
        "print(df_weather_Test.head())"
      ],
      "execution_count": null,
      "outputs": [
        {
          "output_type": "stream",
          "text": [
            "+++++++  Weather Train data +++++++   \n",
            "Shape -  (72, 8)\n",
            "2014    12\n",
            "2013    12\n",
            "2012    12\n",
            "2011    12\n",
            "2010    12\n",
            "2009    12\n",
            "Name: Year, dtype: int64\n",
            "   Year  Month  ...  Visibility (km) avg  Wind (km/h) avg\n",
            "0  2009      1  ...            14.000000        12.000000\n",
            "1  2009      2  ...            15.178571        12.214286\n",
            "2  2009      3  ...            14.258065        11.387097\n",
            "3  2009      4  ...            14.066667        11.366667\n",
            "4  2009      5  ...            12.451613         8.000000\n",
            "\n",
            "[5 rows x 8 columns]\n",
            "+++++++  Weather Test data +++++++   \n",
            "Shape -  (12, 8)\n",
            "2015    12\n",
            "Name: Year, dtype: int64\n",
            "    Year  Month  ...  Visibility (km) avg  Wind (km/h) avg\n",
            "72  2015      1  ...            13.032258        11.677419\n",
            "73  2015      2  ...            13.428571        11.750000\n",
            "74  2015      3  ...            12.935484         9.838710\n",
            "75  2015      4  ...            14.700000        10.433333\n",
            "76  2015      5  ...            14.032258         6.806452\n",
            "\n",
            "[5 rows x 8 columns]\n"
          ],
          "name": "stdout"
        }
      ]
    },
    {
      "cell_type": "markdown",
      "metadata": {
        "colab_type": "text",
        "id": "8duK20tIiQnz"
      },
      "source": [
        "d. Clean Macro Economic Dataframe"
      ]
    },
    {
      "cell_type": "code",
      "metadata": {
        "id": "kNHMHdsbH0G4",
        "colab_type": "code",
        "colab": {
          "base_uri": "https://localhost:8080/",
          "height": 122
        },
        "outputId": "c2bcb147-9849-4b74-d332-c6dba4b6ea41"
      },
      "source": [
        "# 4. Clean Economic Dataframe\n",
        "df_economic = pd.read_excel(data_folder + economic_file)\n",
        "print(\"Shape BEFORE - \", df_economic.shape)\n",
        "\n",
        "df_economic[['Year', 'Month']] = df_economic['Year-Month'].str.split(\"-\", expand = True)\n",
        "df_economic[['Month']] = df_economic['Month'].str.strip()\n",
        "df_economic.drop(['Year-Month', 'Monthly Nominal GDP Index (inMillion$)', 'PartyInPower', 'CommercialBankInterestRateonCreditCardPlans',\n",
        "                  'Finance Rate on Personal Loans at Commercial Banks, 24 Month Loan', 'AdvertisingExpenses (in Thousand Dollars)', 'Change(in%)',\n",
        "                  'Average upland planted(million acres)', 'Average upland harvested(million acres)', 'yieldperharvested acre', \n",
        "                  'Production (in  480-lb netweright in million bales)','Mill use  (in  480-lb netweright in million bales)', 'Exports'],\n",
        "                    axis=1, inplace=True)\n",
        "\n",
        "df_economic = df_economic.replace({\"Month\":month_no})  \n",
        "df_economic[['Year','Month']] = df_economic[['Year','Month']].astype(int)\n",
        "\n",
        "df_economic = df_economic.groupby(['Year', 'Month'], as_index=False)['Monthly Real GDP Index (inMillion$)', \n",
        "                                          'CPI', 'unemployment rate', 'Earnings or wages  in dollars per hour', \n",
        "                                          'Cotton Monthly Price - US cents per Pound(lbs)'].mean()\n",
        "\n",
        "print(\"Train data set len - \", len(df_economic[df_economic['Year'].isin([2009, 2010, 2011, 2012, 2013, 2014])]))\n",
        "print(\"[2015, 2016] Data set len - \", len(df_economic[df_economic['Year'].isin([2015, 2016])]))\n",
        "print(\"Test data set len - \", len(df_economic[df_economic['Year'].isin([2015])]))"
      ],
      "execution_count": null,
      "outputs": [
        {
          "output_type": "stream",
          "text": [
            "Shape BEFORE -  (96, 18)\n",
            "Train data set len -  72\n",
            "[2015, 2016] Data set len -  24\n",
            "Test data set len -  12\n"
          ],
          "name": "stdout"
        },
        {
          "output_type": "stream",
          "text": [
            "/usr/local/lib/python3.6/dist-packages/ipykernel_launcher.py:18: FutureWarning: Indexing with multiple keys (implicitly converted to a tuple of keys) will be deprecated, use a list instead.\n"
          ],
          "name": "stderr"
        }
      ]
    },
    {
      "cell_type": "code",
      "metadata": {
        "id": "1PwPrWOHcgZl",
        "colab_type": "code",
        "colab": {
          "base_uri": "https://localhost:8080/",
          "height": 510
        },
        "outputId": "533d3528-415d-4c5a-d6e7-4b853a99afc8"
      },
      "source": [
        "df_economic_Train = df_economic[df_economic['Year'].isin([2009, 2010, 2011, 2012, 2013, 2014])]\n",
        "df_economic_Test = df_economic[df_economic['Year'].isin([2015])]\n",
        "\n",
        "print(\"+++++++  Economic Train data +++++++   \")\n",
        "print(\"Shape - \", df_economic_Train.shape)\n",
        "print(df_economic_Train['Year'].value_counts())\n",
        "print(df_economic_Train.head())\n",
        "\n",
        "print(\"+++++++  Eeconomic Test data +++++++   \")\n",
        "print(\"Shape - \", df_economic_Test.shape)\n",
        "print(df_economic_Test['Year'].value_counts())\n",
        "print(df_economic_Test.head())"
      ],
      "execution_count": null,
      "outputs": [
        {
          "output_type": "stream",
          "text": [
            "+++++++  Economic Train data +++++++   \n",
            "Shape -  (72, 7)\n",
            "2014    12\n",
            "2013    12\n",
            "2012    12\n",
            "2011    12\n",
            "2010    12\n",
            "2009    12\n",
            "Name: Year, dtype: int64\n",
            "   Year  ...  Cotton Monthly Price - US cents per Pound(lbs)\n",
            "0  2009  ...                                           57.70\n",
            "1  2009  ...                                           55.21\n",
            "2  2009  ...                                           51.50\n",
            "3  2009  ...                                           56.78\n",
            "4  2009  ...                                           61.95\n",
            "\n",
            "[5 rows x 7 columns]\n",
            "+++++++  Eeconomic Test data +++++++   \n",
            "Shape -  (12, 7)\n",
            "2015    12\n",
            "Name: Year, dtype: int64\n",
            "    Year  ...  Cotton Monthly Price - US cents per Pound(lbs)\n",
            "72  2015  ...                                           67.35\n",
            "73  2015  ...                                           69.84\n",
            "74  2015  ...                                           69.35\n",
            "75  2015  ...                                           71.70\n",
            "76  2015  ...                                           72.86\n",
            "\n",
            "[5 rows x 7 columns]\n"
          ],
          "name": "stdout"
        }
      ]
    },
    {
      "cell_type": "code",
      "metadata": {
        "id": "rzmKKakCfV30",
        "colab_type": "code",
        "colab": {
          "base_uri": "https://localhost:8080/",
          "height": 1000
        },
        "outputId": "85c2d7b9-412d-4363-9ef3-a1cd6b641536"
      },
      "source": [
        "df_test = pd.read_csv(data_folder + test_file)\n",
        "print(\"Shape BEFORE - \", df_test.shape)\n",
        "\n",
        "df_test['ProductCategory'] = pd.Categorical(df_test['ProductCategory'])\n",
        "df_test['ProductCategory'] = df_test['ProductCategory'].cat.codes\n",
        "df_test.drop(['Sales(In ThousandDollars)'], axis=1, inplace=True)\n",
        "print(\"Shape AFTER - \", df_test.shape)\n",
        "df_test"
      ],
      "execution_count": null,
      "outputs": [
        {
          "output_type": "stream",
          "text": [
            "Shape BEFORE -  (36, 4)\n",
            "Shape AFTER -  (36, 3)\n"
          ],
          "name": "stdout"
        },
        {
          "output_type": "execute_result",
          "data": {
            "text/html": [
              "<div>\n",
              "<style scoped>\n",
              "    .dataframe tbody tr th:only-of-type {\n",
              "        vertical-align: middle;\n",
              "    }\n",
              "\n",
              "    .dataframe tbody tr th {\n",
              "        vertical-align: top;\n",
              "    }\n",
              "\n",
              "    .dataframe thead th {\n",
              "        text-align: right;\n",
              "    }\n",
              "</style>\n",
              "<table border=\"1\" class=\"dataframe\">\n",
              "  <thead>\n",
              "    <tr style=\"text-align: right;\">\n",
              "      <th></th>\n",
              "      <th>Year</th>\n",
              "      <th>Month</th>\n",
              "      <th>ProductCategory</th>\n",
              "    </tr>\n",
              "  </thead>\n",
              "  <tbody>\n",
              "    <tr>\n",
              "      <th>0</th>\n",
              "      <td>2015</td>\n",
              "      <td>1</td>\n",
              "      <td>2</td>\n",
              "    </tr>\n",
              "    <tr>\n",
              "      <th>1</th>\n",
              "      <td>2015</td>\n",
              "      <td>1</td>\n",
              "      <td>0</td>\n",
              "    </tr>\n",
              "    <tr>\n",
              "      <th>2</th>\n",
              "      <td>2015</td>\n",
              "      <td>1</td>\n",
              "      <td>1</td>\n",
              "    </tr>\n",
              "    <tr>\n",
              "      <th>3</th>\n",
              "      <td>2015</td>\n",
              "      <td>2</td>\n",
              "      <td>2</td>\n",
              "    </tr>\n",
              "    <tr>\n",
              "      <th>4</th>\n",
              "      <td>2015</td>\n",
              "      <td>2</td>\n",
              "      <td>0</td>\n",
              "    </tr>\n",
              "    <tr>\n",
              "      <th>5</th>\n",
              "      <td>2015</td>\n",
              "      <td>2</td>\n",
              "      <td>1</td>\n",
              "    </tr>\n",
              "    <tr>\n",
              "      <th>6</th>\n",
              "      <td>2015</td>\n",
              "      <td>3</td>\n",
              "      <td>2</td>\n",
              "    </tr>\n",
              "    <tr>\n",
              "      <th>7</th>\n",
              "      <td>2015</td>\n",
              "      <td>3</td>\n",
              "      <td>0</td>\n",
              "    </tr>\n",
              "    <tr>\n",
              "      <th>8</th>\n",
              "      <td>2015</td>\n",
              "      <td>3</td>\n",
              "      <td>1</td>\n",
              "    </tr>\n",
              "    <tr>\n",
              "      <th>9</th>\n",
              "      <td>2015</td>\n",
              "      <td>4</td>\n",
              "      <td>2</td>\n",
              "    </tr>\n",
              "    <tr>\n",
              "      <th>10</th>\n",
              "      <td>2015</td>\n",
              "      <td>4</td>\n",
              "      <td>0</td>\n",
              "    </tr>\n",
              "    <tr>\n",
              "      <th>11</th>\n",
              "      <td>2015</td>\n",
              "      <td>4</td>\n",
              "      <td>1</td>\n",
              "    </tr>\n",
              "    <tr>\n",
              "      <th>12</th>\n",
              "      <td>2015</td>\n",
              "      <td>5</td>\n",
              "      <td>2</td>\n",
              "    </tr>\n",
              "    <tr>\n",
              "      <th>13</th>\n",
              "      <td>2015</td>\n",
              "      <td>5</td>\n",
              "      <td>0</td>\n",
              "    </tr>\n",
              "    <tr>\n",
              "      <th>14</th>\n",
              "      <td>2015</td>\n",
              "      <td>5</td>\n",
              "      <td>1</td>\n",
              "    </tr>\n",
              "    <tr>\n",
              "      <th>15</th>\n",
              "      <td>2015</td>\n",
              "      <td>6</td>\n",
              "      <td>2</td>\n",
              "    </tr>\n",
              "    <tr>\n",
              "      <th>16</th>\n",
              "      <td>2015</td>\n",
              "      <td>6</td>\n",
              "      <td>0</td>\n",
              "    </tr>\n",
              "    <tr>\n",
              "      <th>17</th>\n",
              "      <td>2015</td>\n",
              "      <td>6</td>\n",
              "      <td>1</td>\n",
              "    </tr>\n",
              "    <tr>\n",
              "      <th>18</th>\n",
              "      <td>2015</td>\n",
              "      <td>7</td>\n",
              "      <td>2</td>\n",
              "    </tr>\n",
              "    <tr>\n",
              "      <th>19</th>\n",
              "      <td>2015</td>\n",
              "      <td>7</td>\n",
              "      <td>0</td>\n",
              "    </tr>\n",
              "    <tr>\n",
              "      <th>20</th>\n",
              "      <td>2015</td>\n",
              "      <td>7</td>\n",
              "      <td>1</td>\n",
              "    </tr>\n",
              "    <tr>\n",
              "      <th>21</th>\n",
              "      <td>2015</td>\n",
              "      <td>8</td>\n",
              "      <td>2</td>\n",
              "    </tr>\n",
              "    <tr>\n",
              "      <th>22</th>\n",
              "      <td>2015</td>\n",
              "      <td>8</td>\n",
              "      <td>0</td>\n",
              "    </tr>\n",
              "    <tr>\n",
              "      <th>23</th>\n",
              "      <td>2015</td>\n",
              "      <td>8</td>\n",
              "      <td>1</td>\n",
              "    </tr>\n",
              "    <tr>\n",
              "      <th>24</th>\n",
              "      <td>2015</td>\n",
              "      <td>9</td>\n",
              "      <td>2</td>\n",
              "    </tr>\n",
              "    <tr>\n",
              "      <th>25</th>\n",
              "      <td>2015</td>\n",
              "      <td>9</td>\n",
              "      <td>0</td>\n",
              "    </tr>\n",
              "    <tr>\n",
              "      <th>26</th>\n",
              "      <td>2015</td>\n",
              "      <td>9</td>\n",
              "      <td>1</td>\n",
              "    </tr>\n",
              "    <tr>\n",
              "      <th>27</th>\n",
              "      <td>2015</td>\n",
              "      <td>10</td>\n",
              "      <td>2</td>\n",
              "    </tr>\n",
              "    <tr>\n",
              "      <th>28</th>\n",
              "      <td>2015</td>\n",
              "      <td>10</td>\n",
              "      <td>0</td>\n",
              "    </tr>\n",
              "    <tr>\n",
              "      <th>29</th>\n",
              "      <td>2015</td>\n",
              "      <td>10</td>\n",
              "      <td>1</td>\n",
              "    </tr>\n",
              "    <tr>\n",
              "      <th>30</th>\n",
              "      <td>2015</td>\n",
              "      <td>11</td>\n",
              "      <td>2</td>\n",
              "    </tr>\n",
              "    <tr>\n",
              "      <th>31</th>\n",
              "      <td>2015</td>\n",
              "      <td>11</td>\n",
              "      <td>0</td>\n",
              "    </tr>\n",
              "    <tr>\n",
              "      <th>32</th>\n",
              "      <td>2015</td>\n",
              "      <td>11</td>\n",
              "      <td>1</td>\n",
              "    </tr>\n",
              "    <tr>\n",
              "      <th>33</th>\n",
              "      <td>2015</td>\n",
              "      <td>12</td>\n",
              "      <td>2</td>\n",
              "    </tr>\n",
              "    <tr>\n",
              "      <th>34</th>\n",
              "      <td>2015</td>\n",
              "      <td>12</td>\n",
              "      <td>0</td>\n",
              "    </tr>\n",
              "    <tr>\n",
              "      <th>35</th>\n",
              "      <td>2015</td>\n",
              "      <td>12</td>\n",
              "      <td>1</td>\n",
              "    </tr>\n",
              "  </tbody>\n",
              "</table>\n",
              "</div>"
            ],
            "text/plain": [
              "    Year  Month  ProductCategory\n",
              "0   2015      1                2\n",
              "1   2015      1                0\n",
              "2   2015      1                1\n",
              "3   2015      2                2\n",
              "4   2015      2                0\n",
              "5   2015      2                1\n",
              "6   2015      3                2\n",
              "7   2015      3                0\n",
              "8   2015      3                1\n",
              "9   2015      4                2\n",
              "10  2015      4                0\n",
              "11  2015      4                1\n",
              "12  2015      5                2\n",
              "13  2015      5                0\n",
              "14  2015      5                1\n",
              "15  2015      6                2\n",
              "16  2015      6                0\n",
              "17  2015      6                1\n",
              "18  2015      7                2\n",
              "19  2015      7                0\n",
              "20  2015      7                1\n",
              "21  2015      8                2\n",
              "22  2015      8                0\n",
              "23  2015      8                1\n",
              "24  2015      9                2\n",
              "25  2015      9                0\n",
              "26  2015      9                1\n",
              "27  2015     10                2\n",
              "28  2015     10                0\n",
              "29  2015     10                1\n",
              "30  2015     11                2\n",
              "31  2015     11                0\n",
              "32  2015     11                1\n",
              "33  2015     12                2\n",
              "34  2015     12                0\n",
              "35  2015     12                1"
            ]
          },
          "metadata": {
            "tags": []
          },
          "execution_count": 21
        }
      ]
    },
    {
      "cell_type": "markdown",
      "metadata": {
        "colab_type": "text",
        "id": "SpOdpRAMi5Yk"
      },
      "source": [
        "## 2) Merge Train and Test Datasets with Respective Data sets, Handle NANs"
      ]
    },
    {
      "cell_type": "code",
      "metadata": {
        "id": "lFVIqOgQTsz6",
        "colab_type": "code",
        "colab": {
          "base_uri": "https://localhost:8080/",
          "height": 187
        },
        "outputId": "7681db41-257e-4b8e-d2ae-4e2ee387de15"
      },
      "source": [
        "print(\"+++++++  NaNs in Train data +++++++   \")\n",
        "print(df_train.isna().sum().sum())\n",
        "print(df_holidays_Train.isna().sum().sum())\n",
        "print(df_economic_Train.isna().sum().sum())\n",
        "print(df_weather_Train.isna().sum().sum())\n",
        "\n",
        "print(\"+++++++  NaNs in Test data +++++++   \")\n",
        "print(df_test.isna().sum().sum())\n",
        "print(df_holidays_Test.isna().sum().sum())\n",
        "print(df_economic_Test.isna().sum().sum())\n",
        "print(df_weather_Test.isna().sum().sum())\n"
      ],
      "execution_count": null,
      "outputs": [
        {
          "output_type": "stream",
          "text": [
            "+++++++  NaNs in Train data +++++++   \n",
            "0\n",
            "0\n",
            "0\n",
            "0\n",
            "+++++++  NaNs in Test data +++++++   \n",
            "0\n",
            "0\n",
            "0\n",
            "0\n"
          ],
          "name": "stdout"
        }
      ]
    },
    {
      "cell_type": "code",
      "metadata": {
        "id": "PDQ33UEkHtRX",
        "colab_type": "code",
        "colab": {
          "base_uri": "https://localhost:8080/",
          "height": 1000
        },
        "outputId": "6806ebbb-2fc5-4d3c-ae6e-b87588332be4"
      },
      "source": [
        "# Total 4 Dataframes Merged, 1st 'Train' with 'Holidays', 2nd 'Economic' with 'Weather', 3rd Merge on 2 resultant Dataframes\n",
        "df_Sales_Train = (pd.merge(df_train, df_holidays_Train, how='left', on=['Year','Month'])).merge(pd.merge(df_economic_Train, df_weather_Train, how='left', on=['Year','Month']), how = 'left', on=['Year','Month'])\n",
        "print(\"+++++++  Merged Sales Train data  +++++++   \")\n",
        "print(\"Before - \",df_Sales_Train.shape)\n",
        "df_Sales_Train.drop(['Monthly Real GDP Index (inMillion$)', 'CPI', 'Earnings or wages  in dollars per hour', 'Dew Point avg (°C)'], axis=1, inplace=True)\n",
        "print(\"After\",df_Sales_Train.shape)\n",
        "print(df_Sales_Train.head)\n",
        "    #df_Sales_Train[(df_Sales_Train['Year'] ==2009) & (df_Sales_Train['Month'] == 3)]\n",
        "\n",
        "df_Sales_Test = (pd.merge(df_test, df_holidays_Test, how='left', on=['Year','Month'])).merge(pd.merge(df_economic_Test, df_weather_Test, how='left', on=['Year','Month']), how = 'left', on=['Year','Month'])\n",
        "print(\"+++++++  Merged Sales Test data  +++++++   \")\n",
        "print(\"Before\", df_Sales_Test.shape)\n",
        "df_Sales_Test.drop(['Monthly Real GDP Index (inMillion$)', 'CPI','Earnings or wages  in dollars per hour', 'Dew Point avg (°C)'],  axis=1, inplace=True)\n",
        "print(\"After\", df_Sales_Test.shape)\n",
        "print(df_Sales_Test.head)"
      ],
      "execution_count": null,
      "outputs": [
        {
          "output_type": "stream",
          "text": [
            "+++++++  Merged Sales Train data  +++++++   \n",
            "Before -  (216, 17)\n",
            "After (216, 13)\n",
            "<bound method NDFrame.head of      Year  Month  ...  Visibility (km) avg  Wind (km/h) avg\n",
            "0    2009      1  ...            14.000000        12.000000\n",
            "1    2009      1  ...            14.000000        12.000000\n",
            "2    2009      1  ...            14.000000        12.000000\n",
            "3    2009      2  ...            15.178571        12.214286\n",
            "4    2009      2  ...            15.178571        12.214286\n",
            "..    ...    ...  ...                  ...              ...\n",
            "211  2014     11  ...            14.266667         8.800000\n",
            "212  2014     11  ...            14.266667         8.800000\n",
            "213  2014     12  ...            13.193548        10.838710\n",
            "214  2014     12  ...            13.193548        10.838710\n",
            "215  2014     12  ...            13.193548        10.838710\n",
            "\n",
            "[216 rows x 13 columns]>\n",
            "+++++++  Merged Sales Test data  +++++++   \n",
            "Before (36, 16)\n",
            "After (36, 12)\n",
            "<bound method NDFrame.head of     Year  Month  ...  Visibility (km) avg  Wind (km/h) avg\n",
            "0   2015      1  ...            13.032258        11.677419\n",
            "1   2015      1  ...            13.032258        11.677419\n",
            "2   2015      1  ...            13.032258        11.677419\n",
            "3   2015      2  ...            13.428571        11.750000\n",
            "4   2015      2  ...            13.428571        11.750000\n",
            "5   2015      2  ...            13.428571        11.750000\n",
            "6   2015      3  ...            12.935484         9.838710\n",
            "7   2015      3  ...            12.935484         9.838710\n",
            "8   2015      3  ...            12.935484         9.838710\n",
            "9   2015      4  ...            14.700000        10.433333\n",
            "10  2015      4  ...            14.700000        10.433333\n",
            "11  2015      4  ...            14.700000        10.433333\n",
            "12  2015      5  ...            14.032258         6.806452\n",
            "13  2015      5  ...            14.032258         6.806452\n",
            "14  2015      5  ...            14.032258         6.806452\n",
            "15  2015      6  ...            13.100000         7.533333\n",
            "16  2015      6  ...            13.100000         7.533333\n",
            "17  2015      6  ...            13.100000         7.533333\n",
            "18  2015      7  ...            14.161290         5.483871\n",
            "19  2015      7  ...            14.161290         5.483871\n",
            "20  2015      7  ...            14.161290         5.483871\n",
            "21  2015      8  ...            15.354839         5.903226\n",
            "22  2015      8  ...            15.354839         5.903226\n",
            "23  2015      8  ...            15.354839         5.903226\n",
            "24  2015      9  ...            14.766667         7.033333\n",
            "25  2015      9  ...            14.766667         7.033333\n",
            "26  2015      9  ...            14.766667         7.033333\n",
            "27  2015     10  ...            15.161290         8.451613\n",
            "28  2015     10  ...            15.161290         8.451613\n",
            "29  2015     10  ...            15.161290         8.451613\n",
            "30  2015     11  ...            14.814815         7.821429\n",
            "31  2015     11  ...            14.814815         7.821429\n",
            "32  2015     11  ...            14.814815         7.821429\n",
            "33  2015     12  ...            12.333333         8.451613\n",
            "34  2015     12  ...            12.333333         8.451613\n",
            "35  2015     12  ...            12.333333         8.451613\n",
            "\n",
            "[36 rows x 12 columns]>\n"
          ],
          "name": "stdout"
        }
      ]
    },
    {
      "cell_type": "markdown",
      "metadata": {
        "id": "h5bpcSdHteDq",
        "colab_type": "text"
      },
      "source": [
        "Merging Train and Test Data sets and Handling NaNs post merge"
      ]
    },
    {
      "cell_type": "code",
      "metadata": {
        "id": "qsE-ToE2Nyr4",
        "colab_type": "code",
        "colab": {
          "base_uri": "https://localhost:8080/",
          "height": 391
        },
        "outputId": "a5c2f08f-b75c-434d-a165-7b3affa573c2"
      },
      "source": [
        "print(\"+++++++  Train NaNs After Merge  +++++++   \")\n",
        "print(\"NaNs in Train After Merging with Sales data sets\")\n",
        "print(df_Sales_Train.isna().sum().sum())\n",
        "\n",
        "df_Sales_Train['DayCategory_Event'] = df_Sales_Train['DayCategory_Event'].fillna(0)\n",
        "df_Sales_Train['DayCategory_Federal Holiday'] = df_Sales_Train['DayCategory_Federal Holiday'].fillna(0)\n",
        "\n",
        "print(\"/n NaNs\")\n",
        "print(df_Sales_Train.isna().sum().sum())\n",
        "\n",
        "print(\"+++++++  Test NaNs After Merge  +++++++   \")\n",
        "print(\"NaNs in Test After Merging with Sales data sets\") # No Holidays on few months so on Merge we get these NaNs\n",
        "print(df_Sales_Test.isna().sum())\n",
        "\n",
        "df_Sales_Test['DayCategory_Event'] = df_Sales_Test['DayCategory_Event'].fillna(0)\n",
        "df_Sales_Test['DayCategory_Federal Holiday'] = df_Sales_Test['DayCategory_Federal Holiday'].fillna(0)\n",
        "\n",
        "print(\"/n NaNs\")\n",
        "print(df_Sales_Test.isna().sum().sum())"
      ],
      "execution_count": null,
      "outputs": [
        {
          "output_type": "stream",
          "text": [
            "+++++++  Train NaNs After Merge  +++++++   \n",
            "NaNs in Train After Merging with Sales data sets\n",
            "72\n",
            "/n NaNs\n",
            "0\n",
            "+++++++  Test NaNs After Merge  +++++++   \n",
            "NaNs in Test After Merging with Sales data sets\n",
            "Year                                              0\n",
            "Month                                             0\n",
            "ProductCategory                                   0\n",
            "DayCategory_Event                                 6\n",
            "DayCategory_Federal Holiday                       6\n",
            "unemployment rate                                 0\n",
            "Cotton Monthly Price - US cents per Pound(lbs)    0\n",
            "Temp avg (°C)                                     0\n",
            "Humidity (%) avg                                  0\n",
            "Sea Level Press. (hPa) avg                        0\n",
            "Visibility (km) avg                               0\n",
            "Wind (km/h) avg                                   0\n",
            "dtype: int64\n",
            "/n NaNs\n",
            "0\n"
          ],
          "name": "stdout"
        }
      ]
    },
    {
      "cell_type": "code",
      "metadata": {
        "id": "_02-Vq-Ty2O8",
        "colab_type": "code",
        "colab": {}
      },
      "source": [
        "df_Sales_Train.to_csv(\"FullTrain.csv\")\n",
        "df_Sales_Test.to_csv(\"FullTest.csv\")"
      ],
      "execution_count": null,
      "outputs": []
    },
    {
      "cell_type": "markdown",
      "metadata": {
        "colab_type": "text",
        "id": "l4-PyZ-NjTE8"
      },
      "source": [
        "## 3) Train Regression Models for Validation RMSE, Predict Test Sales for 2015\n",
        "(2015 Sales - Month-wise, Product-wise)"
      ]
    },
    {
      "cell_type": "code",
      "metadata": {
        "id": "Exn-YAL5XvFg",
        "colab_type": "code",
        "colab": {
          "base_uri": "https://localhost:8080/",
          "height": 85
        },
        "outputId": "8ec59e91-10e4-42ff-886f-f9dbbd1429f0"
      },
      "source": [
        "labels_train = df_Sales_Train['Sales(In ThousandDollars)']\n",
        "features_train = df_Sales_Train.drop('Sales(In ThousandDollars)', axis=1)\n",
        "\n",
        "print(\"+++++++  Train Features and label Dimensions  +++++++   \")\n",
        "print(features_train.shape,labels_train.shape)\n",
        "\n",
        "# ***********************************************************************************\n",
        "features_test = df_Sales_Test\n",
        "print(\"+++++++  Test Features Dimensions  +++++++   \")\n",
        "print(features_test.shape) # Predict 2015 Sales - Which are Test Labels"
      ],
      "execution_count": null,
      "outputs": [
        {
          "output_type": "stream",
          "text": [
            "+++++++  Train Features and label Dimensions  +++++++   \n",
            "(216, 12) (216,)\n",
            "+++++++  Test Features Dimensions  +++++++   \n",
            "(36, 12)\n"
          ],
          "name": "stdout"
        }
      ]
    },
    {
      "cell_type": "code",
      "metadata": {
        "id": "p8rk6Oy9t8-F",
        "colab_type": "code",
        "colab": {}
      },
      "source": [
        "features_train = features_train.drop(columns=['unemployment rate'])\n",
        "features_test = features_test.drop(columns=['unemployment rate'])"
      ],
      "execution_count": null,
      "outputs": []
    },
    {
      "cell_type": "code",
      "metadata": {
        "id": "YvvTAspf6N-4",
        "colab_type": "code",
        "colab": {
          "base_uri": "https://localhost:8080/",
          "height": 34
        },
        "outputId": "467e75f2-7ddf-4a32-ef5b-6f0b15d74718"
      },
      "source": [
        "X_train_T, X_val_T, y_train_T, y_val_T = train_test_split(features_train, labels_train, test_size=0.20, random_state=100)\n",
        "print(X_train_T.shape, y_train_T.shape, X_val_T.shape, y_val_T.shape) # Combination with features_test"
      ],
      "execution_count": null,
      "outputs": [
        {
          "output_type": "stream",
          "text": [
            "(172, 11) (172,) (44, 11) (44,)\n"
          ],
          "name": "stdout"
        }
      ]
    },
    {
      "cell_type": "code",
      "metadata": {
        "id": "2CfogBbqNOts",
        "colab_type": "code",
        "colab": {
          "base_uri": "https://localhost:8080/",
          "height": 145
        },
        "outputId": "da4337a2-1a29-45ec-f642-5806308a4e0d"
      },
      "source": [
        "features_train.head(2)"
      ],
      "execution_count": null,
      "outputs": [
        {
          "output_type": "execute_result",
          "data": {
            "text/html": [
              "<div>\n",
              "<style scoped>\n",
              "    .dataframe tbody tr th:only-of-type {\n",
              "        vertical-align: middle;\n",
              "    }\n",
              "\n",
              "    .dataframe tbody tr th {\n",
              "        vertical-align: top;\n",
              "    }\n",
              "\n",
              "    .dataframe thead th {\n",
              "        text-align: right;\n",
              "    }\n",
              "</style>\n",
              "<table border=\"1\" class=\"dataframe\">\n",
              "  <thead>\n",
              "    <tr style=\"text-align: right;\">\n",
              "      <th></th>\n",
              "      <th>Year</th>\n",
              "      <th>Month</th>\n",
              "      <th>ProductCategory</th>\n",
              "      <th>DayCategory_Event</th>\n",
              "      <th>DayCategory_Federal Holiday</th>\n",
              "      <th>Cotton Monthly Price - US cents per Pound(lbs)</th>\n",
              "      <th>Temp avg (°C)</th>\n",
              "      <th>Humidity (%) avg</th>\n",
              "      <th>Sea Level Press. (hPa) avg</th>\n",
              "      <th>Visibility (km) avg</th>\n",
              "      <th>Wind (km/h) avg</th>\n",
              "    </tr>\n",
              "  </thead>\n",
              "  <tbody>\n",
              "    <tr>\n",
              "      <th>0</th>\n",
              "      <td>2009</td>\n",
              "      <td>1</td>\n",
              "      <td>2</td>\n",
              "      <td>0.0</td>\n",
              "      <td>2.0</td>\n",
              "      <td>57.7</td>\n",
              "      <td>-2.096774</td>\n",
              "      <td>57.354839</td>\n",
              "      <td>1015.967742</td>\n",
              "      <td>14.0</td>\n",
              "      <td>12.0</td>\n",
              "    </tr>\n",
              "    <tr>\n",
              "      <th>1</th>\n",
              "      <td>2009</td>\n",
              "      <td>1</td>\n",
              "      <td>0</td>\n",
              "      <td>0.0</td>\n",
              "      <td>2.0</td>\n",
              "      <td>57.7</td>\n",
              "      <td>-2.096774</td>\n",
              "      <td>57.354839</td>\n",
              "      <td>1015.967742</td>\n",
              "      <td>14.0</td>\n",
              "      <td>12.0</td>\n",
              "    </tr>\n",
              "  </tbody>\n",
              "</table>\n",
              "</div>"
            ],
            "text/plain": [
              "   Year  Month  ...  Visibility (km) avg  Wind (km/h) avg\n",
              "0  2009      1  ...                 14.0             12.0\n",
              "1  2009      1  ...                 14.0             12.0\n",
              "\n",
              "[2 rows x 11 columns]"
            ]
          },
          "metadata": {
            "tags": []
          },
          "execution_count": 70
        }
      ]
    },
    {
      "cell_type": "code",
      "metadata": {
        "id": "no8xICdFt8X5",
        "colab_type": "code",
        "colab": {}
      },
      "source": [
        "scalar = StandardScaler()\n",
        "features_train_scaled = features_train.copy(deep=True)\n",
        "features_test_scaled = features_test.copy(deep=True)\n",
        "\n",
        "features_train_scaled[['Sea Level Press.\\xa0(hPa) avg', 'Cotton Monthly Price - US cents per Pound(lbs)',\n",
        "                                      'Temp avg (°C)','Humidity\\xa0(%) avg', 'Visibility\\xa0(km) avg', 'Wind\\xa0(km/h) avg']] = scalar.fit_transform(features_train_scaled[['Sea Level Press.\\xa0(hPa) avg', 'Cotton Monthly Price - US cents per Pound(lbs)',\n",
        "                                      'Temp avg (°C)','Humidity\\xa0(%) avg', 'Visibility\\xa0(km) avg', 'Wind\\xa0(km/h) avg']])\n",
        "\n",
        "features_test_scaled[['Sea Level Press.\\xa0(hPa) avg', 'Cotton Monthly Price - US cents per Pound(lbs)',\n",
        "                                      'Temp avg (°C)','Humidity\\xa0(%) avg', 'Visibility\\xa0(km) avg', 'Wind\\xa0(km/h) avg']]  = scalar.fit_transform(features_test_scaled[['Sea Level Press.\\xa0(hPa) avg', 'Cotton Monthly Price - US cents per Pound(lbs)',\n",
        "                                      'Temp avg (°C)','Humidity\\xa0(%) avg', 'Visibility\\xa0(km) avg', 'Wind\\xa0(km/h) avg']] )\n",
        "#scaled_features_test = scalar.transform(features_test)\n",
        "# df[['x','z']] = mms.fit_transform(df[['x','z']])\n"
      ],
      "execution_count": null,
      "outputs": []
    },
    {
      "cell_type": "code",
      "metadata": {
        "id": "LVJqkZff1rTW",
        "colab_type": "code",
        "colab": {
          "base_uri": "https://localhost:8080/",
          "height": 935
        },
        "outputId": "48997b26-6395-4ee4-99c9-45a00ef683e4"
      },
      "source": [
        "print(features_train_scaled.shape, features_test_scaled.shape)\n",
        "print(features_train_scaled)\n",
        "print(features_test_scaled)"
      ],
      "execution_count": null,
      "outputs": [
        {
          "output_type": "stream",
          "text": [
            "(216, 11) (36, 11)\n",
            "     Year  Month  ...  Visibility (km) avg  Wind (km/h) avg\n",
            "0    2009      1  ...             0.139066         1.297163\n",
            "1    2009      1  ...             0.139066         1.297163\n",
            "2    2009      1  ...             0.139066         1.297163\n",
            "3    2009      2  ...             1.449162         1.400186\n",
            "4    2009      2  ...             1.449162         1.400186\n",
            "..    ...    ...  ...                  ...              ...\n",
            "211  2014     11  ...             0.435492        -0.241310\n",
            "212  2014     11  ...             0.435492        -0.241310\n",
            "213  2014     12  ...            -0.757384         0.738847\n",
            "214  2014     12  ...            -0.757384         0.738847\n",
            "215  2014     12  ...            -0.757384         0.738847\n",
            "\n",
            "[216 rows x 11 columns]\n",
            "    Year  Month  ...  Visibility (km) avg  Wind (km/h) avg\n",
            "0   2015      1  ...            -0.998162         1.616109\n",
            "1   2015      1  ...            -0.998162         1.616109\n",
            "2   2015      1  ...            -0.998162         1.616109\n",
            "3   2015      2  ...            -0.582985         1.652252\n",
            "4   2015      2  ...            -0.582985         1.652252\n",
            "5   2015      2  ...            -0.582985         1.652252\n",
            "6   2015      3  ...            -1.099543         0.700486\n",
            "7   2015      3  ...            -1.099543         0.700486\n",
            "8   2015      3  ...            -1.099543         0.700486\n",
            "9   2015      4  ...             0.748963         0.996591\n",
            "10  2015      4  ...             0.748963         0.996591\n",
            "11  2015      4  ...             0.748963         0.996591\n",
            "12  2015      5  ...             0.049437        -0.809489\n",
            "13  2015      5  ...             0.049437        -0.809489\n",
            "14  2015      5  ...             0.049437        -0.809489\n",
            "15  2015      6  ...            -0.927196        -0.447523\n",
            "16  2015      6  ...            -0.927196        -0.447523\n",
            "17  2015      6  ...            -0.927196        -0.447523\n",
            "18  2015      7  ...             0.184611        -1.468095\n",
            "19  2015      7  ...             0.184611        -1.468095\n",
            "20  2015      7  ...             0.184611        -1.468095\n",
            "21  2015      8  ...             1.434972        -1.259269\n",
            "22  2015      8  ...             1.434972        -1.259269\n",
            "23  2015      8  ...             1.434972        -1.259269\n",
            "24  2015      9  ...             0.818803        -0.696509\n",
            "25  2015      9  ...             0.818803        -0.696509\n",
            "26  2015      9  ...             0.818803        -0.696509\n",
            "27  2015     10  ...             1.232211         0.009753\n",
            "28  2015     10  ...             1.232211         0.009753\n",
            "29  2015     10  ...             1.232211         0.009753\n",
            "30  2015     11  ...             0.869243        -0.304060\n",
            "31  2015     11  ...             0.869243        -0.304060\n",
            "32  2015     11  ...             0.869243        -0.304060\n",
            "33  2015     12  ...            -1.730356         0.009753\n",
            "34  2015     12  ...            -1.730356         0.009753\n",
            "35  2015     12  ...            -1.730356         0.009753\n",
            "\n",
            "[36 rows x 11 columns]\n"
          ],
          "name": "stdout"
        }
      ]
    },
    {
      "cell_type": "code",
      "metadata": {
        "id": "nM6sMnqCX4-y",
        "colab_type": "code",
        "colab": {}
      },
      "source": [
        "scaled_features_train = features_train_scaled\n",
        "scaled_features_test = features_test_scaled"
      ],
      "execution_count": null,
      "outputs": []
    },
    {
      "cell_type": "code",
      "metadata": {
        "id": "CNnJFO_kuQMy",
        "colab_type": "code",
        "colab": {}
      },
      "source": [
        "# scaled_features_train = scaled_features_train.drop(columns=['unemployment rate'])\n",
        "# scaled_features_test = scaled_features_test.drop(columns=['unemployment rate'])"
      ],
      "execution_count": null,
      "outputs": []
    },
    {
      "cell_type": "code",
      "metadata": {
        "id": "Xi4wTCO2JQ57",
        "colab_type": "code",
        "colab": {
          "base_uri": "https://localhost:8080/",
          "height": 51
        },
        "outputId": "ceb83583-30a6-425d-b2a4-036c93ef71c9"
      },
      "source": [
        "print(\"+++++++  Train Features Dimensions  +++++++   \")\n",
        "X_train, X_val, y_train, y_val = train_test_split(scaled_features_train, labels_train, test_size=0.20, random_state=100)\n",
        "print(X_train.shape, y_train.shape, X_val.shape, y_val.shape)"
      ],
      "execution_count": null,
      "outputs": [
        {
          "output_type": "stream",
          "text": [
            "+++++++  Train Features Dimensions  +++++++   \n",
            "(172, 11) (172,) (44, 11) (44,)\n"
          ],
          "name": "stdout"
        }
      ]
    },
    {
      "cell_type": "markdown",
      "metadata": {
        "colab_type": "text",
        "id": "kgDYv04q5rKa"
      },
      "source": [
        "## 1. Linear Regression - Model"
      ]
    },
    {
      "cell_type": "code",
      "metadata": {
        "id": "nW2m3QBuj1Og",
        "colab_type": "code",
        "colab": {
          "base_uri": "https://localhost:8080/",
          "height": 51
        },
        "outputId": "d3f99311-d49d-4ee5-cede-058e21c91851"
      },
      "source": [
        "# Train sale Predictions for RMSE using Linear Regression\n",
        "LR_model = linear_model.LinearRegression()\n",
        "print(LR_model)\n",
        "\n",
        "LR_model.fit(X_train, y_train)\n",
        "\n",
        "y_val_pred_LR = LR_model.predict(X_val)\n",
        "print(\"RMSE Train - \", mean_squared_error(y_val, y_val_pred_LR, squared=False)) # RMSE - Root Mean Square Error, squared = false\n",
        "# Before Standard Scalar #RMSE Train -  558.8475064713318"
      ],
      "execution_count": null,
      "outputs": [
        {
          "output_type": "stream",
          "text": [
            "LinearRegression(copy_X=True, fit_intercept=True, n_jobs=None, normalize=False)\n",
            "RMSE Train -  551.5126718312528\n"
          ],
          "name": "stdout"
        }
      ]
    },
    {
      "cell_type": "code",
      "metadata": {
        "id": "Lb40v3QChR9K",
        "colab_type": "code",
        "colab": {
          "base_uri": "https://localhost:8080/",
          "height": 204
        },
        "outputId": "af4905f5-4c67-491a-d410-bf9cea7095b4"
      },
      "source": [
        "# Test 2015 Sales Predictions using Linear Regression\n",
        "y_test_pred_LR = LR_model.predict(scaled_features_test) # Test Labels here are 2015 Test Sales\n",
        "print(\"Sales Predictions Count\", len(y_test_pred_LR))\n",
        "print(\"++++++++++++++++++++++++++++++++++++++++++++++++++++++++++++++++++++++\")\n",
        "print(\"Test Sales Predictions for 2015 - \\n\", y_test_pred_LR)\n",
        "\n",
        "df_Sales_Test_csv = df_Sales_Test.copy(deep=True)\n",
        "df_Sales_Test_csv['Sales(In ThousandDollars)'] = y_test_pred_LR\n",
        "df_Sales_Test_csv['Sales(In ThousandDollars)'].to_csv('Sample_Predictions_LR.csv')\n",
        "# Test Sales Predictions with Model Trained on Train Data File Merged with all 3 other Data files - Holidays, Weather and Economic Data sets"
      ],
      "execution_count": null,
      "outputs": [
        {
          "output_type": "stream",
          "text": [
            "Sales Predictions Count 36\n",
            "++++++++++++++++++++++++++++++++++++++++++++++++++++++++++++++++++++++\n",
            "Test Sales Predictions for 2015 - \n",
            " [3040.13975357  609.19756002 1824.66865679 3249.41419975  818.47200621\n",
            " 2033.94310298 3334.50381255  903.56161901 2119.03271578 3554.66295695\n",
            " 1123.7207634  2339.19186017 3415.67471826  984.73252471 2200.20362149\n",
            " 3275.98518055  845.04298701 2060.51408378 3013.76004969  582.81785615\n",
            " 1798.28895292 3277.20618966  846.26399612 2061.73509289 3246.23554616\n",
            "  815.29335262 2030.76444939 3454.31413926 1023.37194572 2238.84304249\n",
            " 3272.6365603   841.69436675 2057.16546353 3970.58072348 1539.63852993\n",
            " 2755.10962671]\n"
          ],
          "name": "stdout"
        }
      ]
    },
    {
      "cell_type": "markdown",
      "metadata": {
        "colab_type": "text",
        "id": "ZiLqH3Qa2w2i"
      },
      "source": [
        "## 2. KNN Regression - Model"
      ]
    },
    {
      "cell_type": "code",
      "metadata": {
        "id": "mEu1FkPt3GD5",
        "colab_type": "code",
        "colab": {
          "base_uri": "https://localhost:8080/",
          "height": 34
        },
        "outputId": "6fec36d4-14cf-4d41-b0a8-f61abfccae04"
      },
      "source": [
        "# Train sale Predictions for RMSE using KNN Regression\n",
        "KNN_model = KNeighborsRegressor(n_neighbors=3) #7\n",
        "KNN_model.fit(X_train_T, y_train_T)\n",
        "\n",
        "y_val_pred_KNN = KNN_model.predict(X_val_T)\n",
        "print(\"RMSE Train - \", mean_squared_error(y_val_T, y_val_pred_KNN, squared=False)) # RMSE - Root Mean Square Error, squared = false\n",
        "#RMSE Train -  1193.4424775253856"
      ],
      "execution_count": null,
      "outputs": [
        {
          "output_type": "stream",
          "text": [
            "RMSE Train -  1352.960859427595\n"
          ],
          "name": "stdout"
        }
      ]
    },
    {
      "cell_type": "markdown",
      "metadata": {
        "colab_type": "text",
        "id": "3qDLQX1H9iEE"
      },
      "source": [
        "## 3. DT Regression - Model"
      ]
    },
    {
      "cell_type": "code",
      "metadata": {
        "id": "ZiNgiVJL9vva",
        "colab_type": "code",
        "colab": {
          "base_uri": "https://localhost:8080/",
          "height": 34
        },
        "outputId": "6e92a863-dbd9-4477-d918-aedec0e82021"
      },
      "source": [
        "# Train sale Predictions for RMSE using DT Regression\n",
        "DT_model = DecisionTreeRegressor(max_depth=5, random_state=100, min_samples_split=3, min_samples_leaf=1)\n",
        "DT_model.fit(X_train_T, y_train_T)\n",
        "\n",
        "y_val_pred_DT = DT_model.predict(X_val_T)\n",
        "print(\"RMSE Train - \", mean_squared_error(y_val_T, y_val_pred_DT, squared=False)) # RMSE - Root Mean Square Error, squared = false\n",
        "#RMSE Train -  655.115814087771"
      ],
      "execution_count": null,
      "outputs": [
        {
          "output_type": "stream",
          "text": [
            "RMSE Train -  405.29856071519185\n"
          ],
          "name": "stdout"
        }
      ]
    },
    {
      "cell_type": "code",
      "metadata": {
        "id": "nk0D5Twn5T4h",
        "colab_type": "code",
        "colab": {
          "base_uri": "https://localhost:8080/",
          "height": 204
        },
        "outputId": "377f933a-2f5d-4f33-eb88-8f321ed803d9"
      },
      "source": [
        "# Test 2015 Sales Predictions using DT Regression\n",
        "\n",
        "y_test_pred_DT = DT_model.predict(features_test) # Test Labels here are 2015 Test Sales\n",
        "print(\"Sales Predictions Count\", len(y_test_pred_DT))\n",
        "print(\"++++++++++++++++++++++++++++++++++++++++++++++++++++++++++++++++++++++\")\n",
        "print(\"Test Sales Predictions for 2015 - \\n\", y_test_pred_DT)\n",
        "\n",
        "df_Sales_Test_DT_csv = df_Sales_Test.copy(deep=True)\n",
        "df_Sales_Test_DT_csv['Sales(In ThousandDollars)'] = y_test_pred_DT\n",
        "df_Sales_Test_DT_csv['Sales(In ThousandDollars)'].to_csv('Sample_Predictions_DT.csv')\n",
        "# Test Sales Predictions with Model Trained on Train Data File Merged with all 3 other Data files - Holidays, Weather and Economic Data sets"
      ],
      "execution_count": null,
      "outputs": [
        {
          "output_type": "stream",
          "text": [
            "Sales Predictions Count 36\n",
            "++++++++++++++++++++++++++++++++++++++++++++++++++++++++++++++++++++++\n",
            "Test Sales Predictions for 2015 - \n",
            " [2916.5         515.4        1290.90756303 2916.5         515.4\n",
            " 1290.90756303 4153.6         618.6        1290.90756303 4153.6\n",
            "  738.13071895 1290.90756303 4153.6        1073.87058824 1290.90756303\n",
            " 4153.6         738.13071895 1136.01960784 4153.6        1702.35294118\n",
            " 1290.90756303 4153.6         738.13071895 1290.90756303 4153.6\n",
            "  738.13071895 1290.90756303 4153.6         738.13071895 1290.90756303\n",
            " 4153.6        1073.87058824 1290.90756303 5264.5         738.13071895\n",
            " 1967.        ]\n"
          ],
          "name": "stdout"
        }
      ]
    },
    {
      "cell_type": "markdown",
      "metadata": {
        "colab_type": "text",
        "id": "RuBfdOt1C3IE"
      },
      "source": [
        "## 4. Random Forest Regression - Model"
      ]
    },
    {
      "cell_type": "code",
      "metadata": {
        "id": "hFKGU3erZORZ",
        "colab_type": "code",
        "colab": {
          "base_uri": "https://localhost:8080/",
          "height": 153
        },
        "outputId": "36808398-935b-44cc-8268-016fa5ab44a6"
      },
      "source": [
        "# With Scaling with Full data\n",
        "# Train sale Predictions for RMSE using DT Regression\n",
        "\n",
        "RF_model_RF = RandomForestRegressor(max_depth=5, random_state=0, min_samples_split=3, min_samples_leaf=1)\n",
        "RF_model_RF.fit(scaled_features_train, labels_train)\n",
        "\n",
        "y_test_pred_RF = RF_model_RF.predict(scaled_features_test)\n",
        "print(y_test_pred_RF)\n",
        "\n",
        "df_Sales_Test_RF_csv = df_Sales_Test.copy(deep=True)\n",
        "df_Sales_Test_RF_csv['Sales(In ThousandDollars)'] = y_test_pred_RF\n",
        "df_Sales_Test_RF_csv['Sales(In ThousandDollars)'].to_csv('Sample_Predictions_RF.csv')\n",
        "# Test Sales Predictions with Model Trained on Train Data File Merged with all 3 other Data files - Holidays, Weather and Economic Data sets"
      ],
      "execution_count": null,
      "outputs": [
        {
          "output_type": "stream",
          "text": [
            "[3365.4069083   595.87523882 1220.15756264 3352.95272104  593.49557216\n",
            " 1249.48853633 4104.80126627  646.31735056 1225.32433605 4216.33871668\n",
            "  738.8685819  1376.64030198 3921.28172264  697.08849117 1341.8311521\n",
            " 3875.86023449  694.75200812 1309.00115572 3829.04609549  787.2102754\n",
            " 1244.31396448 3859.06404784  866.43680584 1276.22201865 4129.79743405\n",
            "  779.50471926 1187.68852631 4192.09894646  772.38494969 1302.38493609\n",
            " 4273.11241092  763.48340864 1234.22096716 4671.40398291  981.27294018\n",
            " 1572.18859256]\n"
          ],
          "name": "stdout"
        }
      ]
    },
    {
      "cell_type": "code",
      "metadata": {
        "id": "n1OrtOoXYQmo",
        "colab_type": "code",
        "colab": {
          "base_uri": "https://localhost:8080/",
          "height": 34
        },
        "outputId": "20974c51-3e8b-455e-e77a-aa2786d59681"
      },
      "source": [
        "# With Scaling with Validation data\n",
        "# Train sale Predictions for RMSE using DT Regression\n",
        "\n",
        "RF_model = RandomForestRegressor(max_depth=5, random_state=0, min_samples_split=3, min_samples_leaf=1)\n",
        "RF_model.fit(X_train, y_train)\n",
        "\n",
        "y_val_pred_RF = RF_model.predict(X_val)\n",
        "print(\"RMSE Train - \", mean_squared_error(y_val, y_val_pred_RF, squared=False)) # RMSE - Root Mean Square Error, squared = false\n",
        "#RMSE Train -  296.7196794584481"
      ],
      "execution_count": null,
      "outputs": [
        {
          "output_type": "stream",
          "text": [
            "RMSE Train -  274.9006992120847\n"
          ],
          "name": "stdout"
        }
      ]
    },
    {
      "cell_type": "code",
      "metadata": {
        "id": "lLx7giPIaZ0R",
        "colab_type": "code",
        "colab": {
          "base_uri": "https://localhost:8080/",
          "height": 153
        },
        "outputId": "c11d94c6-36fb-4efa-806e-87218788af2f"
      },
      "source": [
        "# Without Scaling Full Data\n",
        "# Train sale Predictions for RMSE using DT Regression\n",
        "\n",
        "RF_model = RandomForestRegressor(max_depth=5, random_state=0, min_samples_split=3, min_samples_leaf=1)\n",
        "RF_model.fit(features_train, labels_train)\n",
        "\n",
        "y_test_pred_RF_Full = RF_model.predict(features_test)\n",
        "print(y_test_pred_RF_Full)\n",
        "\n",
        "df_Sales_Test_RF_csv = df_Sales_Test.copy(deep=True)\n",
        "df_Sales_Test_RF_csv['Sales(In ThousandDollars)'] = y_test_pred_RF_Full\n",
        "df_Sales_Test_RF_csv['Sales(In ThousandDollars)'].to_csv('Sample_Predictions_RF_Full.csv')\n",
        "# Test Sales Predictions with Model Trained on Train Data File Merged with all 3 other Data files - Holidays, Weather and Economic Data sets"
      ],
      "execution_count": null,
      "outputs": [
        {
          "output_type": "stream",
          "text": [
            "[3388.51245043  664.94002648 1228.16253069 3508.20452254  606.20716636\n",
            " 1262.62269742 4135.48856755  657.38301708 1250.5137123  4303.40690307\n",
            "  740.82056588 1332.28066975 4139.22301597  792.03351852 1288.10501659\n",
            " 4096.28814602  688.02855863 1239.68970722 4036.52630674 1256.64304592\n",
            " 1180.34291433 4065.56686019  936.64734637 1231.63178421 4159.81068188\n",
            "  791.41632676 1214.39760193 4196.98825382  758.43961688 1353.90614231\n",
            " 4277.25330798  842.95315731 1263.80282627 4864.85084921 1036.01500585\n",
            " 1686.76531001]\n"
          ],
          "name": "stdout"
        }
      ]
    },
    {
      "cell_type": "markdown",
      "metadata": {
        "id": "lELlG53-nukp",
        "colab_type": "text"
      },
      "source": [
        "## Best Random Forest Model - Without Scaling and Corelation"
      ]
    },
    {
      "cell_type": "code",
      "metadata": {
        "id": "srVOyv_CDLOx",
        "colab_type": "code",
        "colab": {
          "base_uri": "https://localhost:8080/",
          "height": 34
        },
        "outputId": "81596734-c943-4b84-b72d-7fd7af3b3bea"
      },
      "source": [
        "# Without Scaling, Validation \n",
        "# Train sale Predictions for RMSE using DT Regression\n",
        "\n",
        "RF_model = RandomForestRegressor(max_depth=5, random_state=0, min_samples_split=3, min_samples_leaf=1)\n",
        "RF_model.fit(X_train_T, y_train_T)\n",
        "\n",
        "y_val_pred_RF = RF_model.predict(X_val_T)\n",
        "print(\"RMSE Train - \", mean_squared_error(y_val_T, y_val_pred_RF, squared=False)) # RMSE - Root Mean Square Error, squared = false\n",
        "#RMSE Train -  296.7196794584481\n",
        "\n",
        "# 274.9006992120847"
      ],
      "execution_count": null,
      "outputs": [
        {
          "output_type": "stream",
          "text": [
            "RMSE Train -  274.8790225041605\n"
          ],
          "name": "stdout"
        }
      ]
    },
    {
      "cell_type": "code",
      "metadata": {
        "id": "m9N9yC2qDdTt",
        "colab_type": "code",
        "colab": {
          "base_uri": "https://localhost:8080/",
          "height": 255
        },
        "outputId": "f6ed703a-675d-464b-c201-ce66c6182b6f"
      },
      "source": [
        "# Test 2015 Sales Predictions using RF Regression\n",
        "\n",
        "y_test_pred_RF = RF_model.predict(features_test) # Test Labels here are 2015 Test Sales\n",
        "print(\"Sales Predictions Count\", len(y_test_pred_RF))\n",
        "print(\"++++++++++++++++++++++++++++++++++++++++++++++++++++++++++++++++++++++\")\n",
        "print(\"Test Sales Predictions for 2015 - \\n\", y_test_pred_RF)\n",
        "\n",
        "df_Sales_Test_RF_csv = df_Sales_Test.copy(deep=True)\n",
        "df_Sales_Test_RF_csv['Sales(In ThousandDollars)'] = y_test_pred_RF\n",
        "df_Sales_Test_RF_csv['Sales(In ThousandDollars)'].to_csv('Sample_Predictions_RF.csv')\n",
        "# Test Sales Predictions with Model Trained on Train Data File Merged with all 3 other Data files - Holidays, Weather and Economic Data sets\n",
        "\n",
        "y_test_pred_RF[::3]"
      ],
      "execution_count": null,
      "outputs": [
        {
          "output_type": "stream",
          "text": [
            "Sales Predictions Count 36\n",
            "++++++++++++++++++++++++++++++++++++++++++++++++++++++++++++++++++++++\n",
            "Test Sales Predictions for 2015 - \n",
            " [3266.52434259  693.87394439 1286.66296837 3304.51133826  617.2643098\n",
            " 1309.55127353 3919.54127815  667.88982116 1280.39644844 4235.52991867\n",
            "  752.94643268 1345.15282078 4111.64493674  850.68368846 1261.43063949\n",
            " 3963.10952998  720.39871288 1197.93379231 3791.70763705 1191.06889533\n",
            " 1231.08051049 3840.0298313   983.1021379  1260.26964294 3964.21279241\n",
            "  802.6060402  1227.50708318 4158.31555504  806.60201718 1315.71333952\n",
            " 4182.19129708  923.23893921 1290.59540522 4846.66080719  986.12362297\n",
            " 1617.02351113]\n"
          ],
          "name": "stdout"
        },
        {
          "output_type": "execute_result",
          "data": {
            "text/plain": [
              "array([3266.52434259, 3304.51133826, 3919.54127815, 4235.52991867,\n",
              "       4111.64493674, 3963.10952998, 3791.70763705, 3840.0298313 ,\n",
              "       3964.21279241, 4158.31555504, 4182.19129708, 4846.66080719])"
            ]
          },
          "metadata": {
            "tags": []
          },
          "execution_count": 85
        }
      ]
    },
    {
      "cell_type": "code",
      "metadata": {
        "id": "bT4PkpaHon3K",
        "colab_type": "code",
        "colab": {
          "base_uri": "https://localhost:8080/",
          "height": 68
        },
        "outputId": "97f205e8-89b4-4c4d-b4a5-ae56f8daa8b7"
      },
      "source": [
        "y_test_pred_RF_Full[::3]"
      ],
      "execution_count": null,
      "outputs": [
        {
          "output_type": "execute_result",
          "data": {
            "text/plain": [
              "array([3388.51245043, 3508.20452254, 4135.48856755, 4303.40690307,\n",
              "       4139.22301597, 4096.28814602, 4036.52630674, 4065.56686019,\n",
              "       4159.81068188, 4196.98825382, 4277.25330798, 4864.85084921])"
            ]
          },
          "metadata": {
            "tags": []
          },
          "execution_count": 86
        }
      ]
    },
    {
      "cell_type": "markdown",
      "metadata": {
        "id": "h-v67ZAnrdtf",
        "colab_type": "text"
      },
      "source": [
        "## 5. XG Boost"
      ]
    },
    {
      "cell_type": "code",
      "metadata": {
        "id": "bDIXW7RIrcaX",
        "colab_type": "code",
        "colab": {
          "base_uri": "https://localhost:8080/",
          "height": 68
        },
        "outputId": "8c6a02a2-7f7f-4a35-9860-d36d193fa003"
      },
      "source": [
        "pip install xgboost"
      ],
      "execution_count": null,
      "outputs": [
        {
          "output_type": "stream",
          "text": [
            "Requirement already satisfied: xgboost in /usr/local/lib/python3.6/dist-packages (0.90)\n",
            "Requirement already satisfied: scipy in /usr/local/lib/python3.6/dist-packages (from xgboost) (1.4.1)\n",
            "Requirement already satisfied: numpy in /usr/local/lib/python3.6/dist-packages (from xgboost) (1.18.5)\n"
          ],
          "name": "stdout"
        }
      ]
    },
    {
      "cell_type": "code",
      "metadata": {
        "id": "lcs1pw8czVKE",
        "colab_type": "code",
        "colab": {
          "base_uri": "https://localhost:8080/",
          "height": 1000
        },
        "outputId": "7910af19-a790-4706-8a19-777bb574f875"
      },
      "source": [
        "from xgboost import XGBRegressor\n",
        "\n",
        "model = XGBRegressor(\n",
        "    max_depth=8,\n",
        "    n_estimators=1000,\n",
        "    min_child_weight=300, \n",
        "    colsample_bytree=0.8, \n",
        "    subsample=0.8, \n",
        "    eta=0.3,    \n",
        "    seed=42)\n",
        "\n",
        "model.fit(\n",
        "    X_train, \n",
        "    y_train, \n",
        "    eval_metric=\"rmse\", \n",
        "    eval_set=[(X_train, y_train), (X_val, y_val)], \n",
        "    verbose=True, \n",
        "    early_stopping_rounds = 10)\n",
        "\n",
        "Y_pred = model.predict(X_val)\n",
        "\n",
        "print(\"RMSE Train - \", mean_squared_error(y_val, Y_pred, squared=False))\n"
      ],
      "execution_count": null,
      "outputs": [
        {
          "output_type": "stream",
          "text": [
            "[11:36:10] WARNING: /workspace/src/objective/regression_obj.cu:152: reg:linear is now deprecated in favor of reg:squarederror.\n",
            "[0]\tvalidation_0-rmse:1945.98\tvalidation_1-rmse:2016.82\n",
            "Multiple eval metrics have been passed: 'validation_1-rmse' will be used for early stopping.\n",
            "\n",
            "Will train until validation_1-rmse hasn't improved in 10 rounds.\n",
            "[1]\tvalidation_0-rmse:1833.35\tvalidation_1-rmse:1905.65\n",
            "[2]\tvalidation_0-rmse:1731.63\tvalidation_1-rmse:1805.29\n",
            "[3]\tvalidation_0-rmse:1645.72\tvalidation_1-rmse:1720.53\n",
            "[4]\tvalidation_0-rmse:1569.06\tvalidation_1-rmse:1644.86\n",
            "[5]\tvalidation_0-rmse:1505.32\tvalidation_1-rmse:1581.87\n",
            "[6]\tvalidation_0-rmse:1451.2\tvalidation_1-rmse:1528.31\n",
            "[7]\tvalidation_0-rmse:1404.3\tvalidation_1-rmse:1481.76\n",
            "[8]\tvalidation_0-rmse:1367.72\tvalidation_1-rmse:1445.34\n",
            "[9]\tvalidation_0-rmse:1336.38\tvalidation_1-rmse:1414.01\n",
            "[10]\tvalidation_0-rmse:1312.72\tvalidation_1-rmse:1390.23\n",
            "[11]\tvalidation_0-rmse:1291.49\tvalidation_1-rmse:1368.78\n",
            "[12]\tvalidation_0-rmse:1273.91\tvalidation_1-rmse:1350.88\n",
            "[13]\tvalidation_0-rmse:1262.06\tvalidation_1-rmse:1338.74\n",
            "[14]\tvalidation_0-rmse:1253.86\tvalidation_1-rmse:1330.27\n",
            "[15]\tvalidation_0-rmse:1244.06\tvalidation_1-rmse:1320.08\n",
            "[16]\tvalidation_0-rmse:1236.09\tvalidation_1-rmse:1311.7\n",
            "[17]\tvalidation_0-rmse:1228.91\tvalidation_1-rmse:1304.08\n",
            "[18]\tvalidation_0-rmse:1223.51\tvalidation_1-rmse:1298.26\n",
            "[19]\tvalidation_0-rmse:1219.07\tvalidation_1-rmse:1293.4\n",
            "[20]\tvalidation_0-rmse:1214.92\tvalidation_1-rmse:1288.8\n",
            "[21]\tvalidation_0-rmse:1211.88\tvalidation_1-rmse:1285.35\n",
            "[22]\tvalidation_0-rmse:1208.92\tvalidation_1-rmse:1281.91\n",
            "[23]\tvalidation_0-rmse:1206.83\tvalidation_1-rmse:1279.41\n",
            "[24]\tvalidation_0-rmse:1205.79\tvalidation_1-rmse:1278.13\n",
            "[25]\tvalidation_0-rmse:1204.84\tvalidation_1-rmse:1276.94\n",
            "[26]\tvalidation_0-rmse:1203.87\tvalidation_1-rmse:1275.68\n",
            "[27]\tvalidation_0-rmse:1203.55\tvalidation_1-rmse:1275.25\n",
            "[28]\tvalidation_0-rmse:1203.16\tvalidation_1-rmse:1274.72\n",
            "[29]\tvalidation_0-rmse:1202.81\tvalidation_1-rmse:1274.24\n",
            "[30]\tvalidation_0-rmse:1203.04\tvalidation_1-rmse:1274.56\n",
            "[31]\tvalidation_0-rmse:1202.31\tvalidation_1-rmse:1273.52\n",
            "[32]\tvalidation_0-rmse:1202.25\tvalidation_1-rmse:1273.43\n",
            "[33]\tvalidation_0-rmse:1202.28\tvalidation_1-rmse:1273.48\n",
            "[34]\tvalidation_0-rmse:1201.63\tvalidation_1-rmse:1272.48\n",
            "[35]\tvalidation_0-rmse:1201.37\tvalidation_1-rmse:1272.05\n",
            "[36]\tvalidation_0-rmse:1201.3\tvalidation_1-rmse:1271.93\n",
            "[37]\tvalidation_0-rmse:1201.36\tvalidation_1-rmse:1272.04\n",
            "[38]\tvalidation_0-rmse:1201.47\tvalidation_1-rmse:1272.23\n",
            "[39]\tvalidation_0-rmse:1201.29\tvalidation_1-rmse:1271.92\n",
            "[40]\tvalidation_0-rmse:1201.07\tvalidation_1-rmse:1271.52\n",
            "[41]\tvalidation_0-rmse:1200.92\tvalidation_1-rmse:1271.22\n",
            "[42]\tvalidation_0-rmse:1200.99\tvalidation_1-rmse:1271.36\n",
            "[43]\tvalidation_0-rmse:1200.75\tvalidation_1-rmse:1270.81\n",
            "[44]\tvalidation_0-rmse:1200.76\tvalidation_1-rmse:1270.85\n",
            "[45]\tvalidation_0-rmse:1200.7\tvalidation_1-rmse:1270.67\n",
            "[46]\tvalidation_0-rmse:1200.86\tvalidation_1-rmse:1271.08\n",
            "[47]\tvalidation_0-rmse:1201.01\tvalidation_1-rmse:1271.39\n",
            "[48]\tvalidation_0-rmse:1200.92\tvalidation_1-rmse:1271.21\n",
            "[49]\tvalidation_0-rmse:1201.06\tvalidation_1-rmse:1271.5\n",
            "[50]\tvalidation_0-rmse:1201.11\tvalidation_1-rmse:1271.58\n",
            "[51]\tvalidation_0-rmse:1201\tvalidation_1-rmse:1271.37\n",
            "[52]\tvalidation_0-rmse:1200.93\tvalidation_1-rmse:1271.23\n",
            "[53]\tvalidation_0-rmse:1200.85\tvalidation_1-rmse:1271.07\n",
            "[54]\tvalidation_0-rmse:1200.91\tvalidation_1-rmse:1271.19\n",
            "[55]\tvalidation_0-rmse:1200.98\tvalidation_1-rmse:1271.33\n",
            "Stopping. Best iteration:\n",
            "[45]\tvalidation_0-rmse:1200.7\tvalidation_1-rmse:1270.67\n",
            "\n",
            "RMSE Train -  1270.6743427368706\n"
          ],
          "name": "stdout"
        }
      ]
    },
    {
      "cell_type": "markdown",
      "metadata": {
        "id": "jFBQ_nQO2ul7",
        "colab_type": "text"
      },
      "source": [
        "## 6. Lasso Model"
      ]
    },
    {
      "cell_type": "code",
      "metadata": {
        "id": "ZhpOvAsIrway",
        "colab_type": "code",
        "colab": {
          "base_uri": "https://localhost:8080/",
          "height": 187
        },
        "outputId": "ebcf53b4-65f3-4f52-e34a-3ad4030e6438"
      },
      "source": [
        "L_model = linear_model.Lasso(alpha=0.2)\n",
        "L_model.fit(X_train, y_train)\n",
        "\n",
        "y_val_pred_L = L_model.predict(X_val)\n",
        "print(\"y_val_pred_L - \", y_val_pred_L)\n",
        "print(\"RMSE Train - \", mean_squared_error(y_val, y_val_pred_L, squared=False))"
      ],
      "execution_count": null,
      "outputs": [
        {
          "output_type": "stream",
          "text": [
            "y_val_pred_L -  [1649.92536461 1715.64649789  935.03518915 1921.3225177  1651.86789919\n",
            "  390.64554233 2147.78620247 1988.06273088 2050.92770851 1643.02733095\n",
            " 1208.99871313 1347.83522317  128.29650701 2978.02244364 3041.6129599\n",
            " 2923.89616169 3136.4392278  3042.64535153  662.42394225 2930.76320798\n",
            "  436.7511891  3266.0444186  1037.55977991  286.81269481  343.50033973\n",
            " 3365.26860933  493.66274151 1969.69969098  604.62568527 1327.1460413\n",
            " 1203.6740235  3311.04797118 1751.59117161  835.81099841  -22.95259779\n",
            " 1494.53169872 2536.44862044 3092.65736243 1558.61704982 2517.03697846\n",
            " 2974.30603233 2938.81315182  780.01179288  322.46813868]\n",
            "RMSE Train -  551.4526516849708\n"
          ],
          "name": "stdout"
        }
      ]
    },
    {
      "cell_type": "code",
      "metadata": {
        "id": "3xp8znAK9j4G",
        "colab_type": "code",
        "colab": {
          "base_uri": "https://localhost:8080/",
          "height": 728
        },
        "outputId": "ecdc618b-e8c1-4442-f517-a398182d7e1f"
      },
      "source": [
        "df_economic = pd.read_excel(data_folder + economic_file)\n",
        "print(\"Shape BEFORE - \", df_economic.shape)\n",
        "\n",
        "df_economic[['Year', 'Month']] = df_economic['Year-Month'].str.split(\"-\", expand = True)\n",
        "df_economic[['Month']] = df_economic['Month'].str.strip()\n",
        "# df_economic.drop(['Year-Month', 'Monthly Nominal GDP Index (inMillion$)', 'PartyInPower', 'CommercialBankInterestRateonCreditCardPlans',\n",
        "#                   'Finance Rate on Personal Loans at Commercial Banks, 24 Month Loan', 'AdvertisingExpenses (in Thousand Dollars)', 'Change(in%)',\n",
        "#                   'Average upland planted(million acres)', 'Average upland harvested(million acres)', 'yieldperharvested acre', \n",
        "#                   'Production (in  480-lb netweright in million bales)','Mill use  (in  480-lb netweright in million bales)', 'Exports'],\n",
        "#                     axis=1, inplace=True)\n",
        "\n",
        "df_economic = df_economic.replace({\"Month\":month_no})  \n",
        "df_economic[['Year','Month']] = df_economic[['Year','Month']].astype(int)\n",
        "\n",
        "df_economic"
      ],
      "execution_count": null,
      "outputs": [
        {
          "output_type": "stream",
          "text": [
            "Shape BEFORE -  (96, 18)\n"
          ],
          "name": "stdout"
        },
        {
          "output_type": "execute_result",
          "data": {
            "text/html": [
              "<div>\n",
              "<style scoped>\n",
              "    .dataframe tbody tr th:only-of-type {\n",
              "        vertical-align: middle;\n",
              "    }\n",
              "\n",
              "    .dataframe tbody tr th {\n",
              "        vertical-align: top;\n",
              "    }\n",
              "\n",
              "    .dataframe thead th {\n",
              "        text-align: right;\n",
              "    }\n",
              "</style>\n",
              "<table border=\"1\" class=\"dataframe\">\n",
              "  <thead>\n",
              "    <tr style=\"text-align: right;\">\n",
              "      <th></th>\n",
              "      <th>Year-Month</th>\n",
              "      <th>Monthly Nominal GDP Index (inMillion$)</th>\n",
              "      <th>Monthly Real GDP Index (inMillion$)</th>\n",
              "      <th>CPI</th>\n",
              "      <th>PartyInPower</th>\n",
              "      <th>unemployment rate</th>\n",
              "      <th>CommercialBankInterestRateonCreditCardPlans</th>\n",
              "      <th>Finance Rate on Personal Loans at Commercial Banks, 24 Month Loan</th>\n",
              "      <th>Earnings or wages  in dollars per hour</th>\n",
              "      <th>AdvertisingExpenses (in Thousand Dollars)</th>\n",
              "      <th>Cotton Monthly Price - US cents per Pound(lbs)</th>\n",
              "      <th>Change(in%)</th>\n",
              "      <th>Average upland planted(million acres)</th>\n",
              "      <th>Average upland harvested(million acres)</th>\n",
              "      <th>yieldperharvested acre</th>\n",
              "      <th>Production (in  480-lb netweright in million bales)</th>\n",
              "      <th>Mill use  (in  480-lb netweright in million bales)</th>\n",
              "      <th>Exports</th>\n",
              "      <th>Year</th>\n",
              "      <th>Month</th>\n",
              "    </tr>\n",
              "  </thead>\n",
              "  <tbody>\n",
              "    <tr>\n",
              "      <th>0</th>\n",
              "      <td>2009 - Jan</td>\n",
              "      <td>14421.752895</td>\n",
              "      <td>14407.053343</td>\n",
              "      <td>233.402</td>\n",
              "      <td>Democrats</td>\n",
              "      <td>7.8</td>\n",
              "      <td>12.03</td>\n",
              "      <td>11.44</td>\n",
              "      <td>22.05</td>\n",
              "      <td>137</td>\n",
              "      <td>57.70</td>\n",
              "      <td>4.02</td>\n",
              "      <td>9.296</td>\n",
              "      <td>7.559</td>\n",
              "      <td>799</td>\n",
              "      <td>12.589</td>\n",
              "      <td>4.170</td>\n",
              "      <td>11.550</td>\n",
              "      <td>2009</td>\n",
              "      <td>1</td>\n",
              "    </tr>\n",
              "    <tr>\n",
              "      <th>1</th>\n",
              "      <td>2009 - Feb</td>\n",
              "      <td>14389.200466</td>\n",
              "      <td>14366.176571</td>\n",
              "      <td>234.663</td>\n",
              "      <td>Democrats</td>\n",
              "      <td>8.3</td>\n",
              "      <td>12.97</td>\n",
              "      <td>11.05</td>\n",
              "      <td>22.22</td>\n",
              "      <td>200</td>\n",
              "      <td>55.21</td>\n",
              "      <td>-4.32</td>\n",
              "      <td>9.296</td>\n",
              "      <td>7.559</td>\n",
              "      <td>799</td>\n",
              "      <td>12.589</td>\n",
              "      <td>3.870</td>\n",
              "      <td>11.100</td>\n",
              "      <td>2009</td>\n",
              "      <td>2</td>\n",
              "    </tr>\n",
              "    <tr>\n",
              "      <th>2</th>\n",
              "      <td>2009 - Mar</td>\n",
              "      <td>14340.701639</td>\n",
              "      <td>14351.786822</td>\n",
              "      <td>235.067</td>\n",
              "      <td>Democrats</td>\n",
              "      <td>8.7</td>\n",
              "      <td>12.97</td>\n",
              "      <td>11.05</td>\n",
              "      <td>22.22</td>\n",
              "      <td>?</td>\n",
              "      <td>51.50</td>\n",
              "      <td>-6.72</td>\n",
              "      <td>9.296</td>\n",
              "      <td>7.559</td>\n",
              "      <td>799</td>\n",
              "      <td>12.589</td>\n",
              "      <td>3.720</td>\n",
              "      <td>11.650</td>\n",
              "      <td>2009</td>\n",
              "      <td>3</td>\n",
              "    </tr>\n",
              "    <tr>\n",
              "      <th>3</th>\n",
              "      <td>2009 - Apr</td>\n",
              "      <td>14326.815525</td>\n",
              "      <td>14351.601731</td>\n",
              "      <td>235.582</td>\n",
              "      <td>Democrats</td>\n",
              "      <td>9.0</td>\n",
              "      <td>12.97</td>\n",
              "      <td>11.05</td>\n",
              "      <td>22.13</td>\n",
              "      <td>214</td>\n",
              "      <td>56.78</td>\n",
              "      <td>10.25</td>\n",
              "      <td>9.296</td>\n",
              "      <td>7.559</td>\n",
              "      <td>787</td>\n",
              "      <td>12.400</td>\n",
              "      <td>3.620</td>\n",
              "      <td>12.225</td>\n",
              "      <td>2009</td>\n",
              "      <td>4</td>\n",
              "    </tr>\n",
              "    <tr>\n",
              "      <th>4</th>\n",
              "      <td>2009 - May</td>\n",
              "      <td>14345.904809</td>\n",
              "      <td>14368.123959</td>\n",
              "      <td>235.975</td>\n",
              "      <td>Democrats</td>\n",
              "      <td>9.4</td>\n",
              "      <td>13.32</td>\n",
              "      <td>11.25</td>\n",
              "      <td>22.04</td>\n",
              "      <td>?</td>\n",
              "      <td>61.95</td>\n",
              "      <td>9.11</td>\n",
              "      <td>9.297</td>\n",
              "      <td>7.400</td>\n",
              "      <td>803</td>\n",
              "      <td>12.384</td>\n",
              "      <td>3.520</td>\n",
              "      <td>12.300</td>\n",
              "      <td>2009</td>\n",
              "      <td>5</td>\n",
              "    </tr>\n",
              "    <tr>\n",
              "      <th>...</th>\n",
              "      <td>...</td>\n",
              "      <td>...</td>\n",
              "      <td>...</td>\n",
              "      <td>...</td>\n",
              "      <td>...</td>\n",
              "      <td>...</td>\n",
              "      <td>...</td>\n",
              "      <td>...</td>\n",
              "      <td>...</td>\n",
              "      <td>...</td>\n",
              "      <td>...</td>\n",
              "      <td>...</td>\n",
              "      <td>...</td>\n",
              "      <td>...</td>\n",
              "      <td>...</td>\n",
              "      <td>...</td>\n",
              "      <td>...</td>\n",
              "      <td>...</td>\n",
              "      <td>...</td>\n",
              "      <td>...</td>\n",
              "    </tr>\n",
              "    <tr>\n",
              "      <th>91</th>\n",
              "      <td>2016 - Aug</td>\n",
              "      <td>18741.599947</td>\n",
              "      <td>16797.206610</td>\n",
              "      <td>264.160</td>\n",
              "      <td>Democrats</td>\n",
              "      <td>4.9</td>\n",
              "      <td>12.51</td>\n",
              "      <td>9.64</td>\n",
              "      <td>25.52</td>\n",
              "      <td>?</td>\n",
              "      <td>80.26</td>\n",
              "      <td>-0.99</td>\n",
              "      <td>9.824</td>\n",
              "      <td>9.340</td>\n",
              "      <td>787</td>\n",
              "      <td>15.314</td>\n",
              "      <td>3.575</td>\n",
              "      <td>10.950</td>\n",
              "      <td>2016</td>\n",
              "      <td>8</td>\n",
              "    </tr>\n",
              "    <tr>\n",
              "      <th>92</th>\n",
              "      <td>2016 - Sep</td>\n",
              "      <td>18840.309646</td>\n",
              "      <td>16852.562745</td>\n",
              "      <td>264.602</td>\n",
              "      <td>Democrats</td>\n",
              "      <td>4.9</td>\n",
              "      <td>12.51</td>\n",
              "      <td>9.64</td>\n",
              "      <td>25.74</td>\n",
              "      <td>?</td>\n",
              "      <td>77.86</td>\n",
              "      <td>-2.99</td>\n",
              "      <td>9.950</td>\n",
              "      <td>9.464</td>\n",
              "      <td>790</td>\n",
              "      <td>15.580</td>\n",
              "      <td>3.475</td>\n",
              "      <td>10.950</td>\n",
              "      <td>2016</td>\n",
              "      <td>9</td>\n",
              "    </tr>\n",
              "    <tr>\n",
              "      <th>93</th>\n",
              "      <td>2016 - Oct</td>\n",
              "      <td>18740.780023</td>\n",
              "      <td>16725.460098</td>\n",
              "      <td>264.738</td>\n",
              "      <td>Democrats</td>\n",
              "      <td>4.8</td>\n",
              "      <td>12.51</td>\n",
              "      <td>9.64</td>\n",
              "      <td>26.04</td>\n",
              "      <td>?</td>\n",
              "      <td>78.52</td>\n",
              "      <td>0.85</td>\n",
              "      <td>9.950</td>\n",
              "      <td>9.464</td>\n",
              "      <td>785</td>\n",
              "      <td>15.472</td>\n",
              "      <td>3.475</td>\n",
              "      <td>11.425</td>\n",
              "      <td>2016</td>\n",
              "      <td>10</td>\n",
              "    </tr>\n",
              "    <tr>\n",
              "      <th>94</th>\n",
              "      <td>2016 - Nov</td>\n",
              "      <td>18960.461568</td>\n",
              "      <td>16910.896330</td>\n",
              "      <td>265.203</td>\n",
              "      <td>Democrats</td>\n",
              "      <td>4.6</td>\n",
              "      <td>12.41</td>\n",
              "      <td>9.45</td>\n",
              "      <td>25.87</td>\n",
              "      <td>?</td>\n",
              "      <td>78.92</td>\n",
              "      <td>0.51</td>\n",
              "      <td>9.950</td>\n",
              "      <td>9.464</td>\n",
              "      <td>791</td>\n",
              "      <td>15.600</td>\n",
              "      <td>3.475</td>\n",
              "      <td>11.425</td>\n",
              "      <td>2016</td>\n",
              "      <td>11</td>\n",
              "    </tr>\n",
              "    <tr>\n",
              "      <th>95</th>\n",
              "      <td>2016 - Dec</td>\n",
              "      <td>19015.393408</td>\n",
              "      <td>16918.050624</td>\n",
              "      <td>265.421</td>\n",
              "      <td>Democrats</td>\n",
              "      <td>4.7</td>\n",
              "      <td>12.41</td>\n",
              "      <td>9.45</td>\n",
              "      <td>25.90</td>\n",
              "      <td>?</td>\n",
              "      <td>79.50</td>\n",
              "      <td>0.73</td>\n",
              "      <td>9.950</td>\n",
              "      <td>9.464</td>\n",
              "      <td>810</td>\n",
              "      <td>15.962</td>\n",
              "      <td>3.275</td>\n",
              "      <td>11.600</td>\n",
              "      <td>2016</td>\n",
              "      <td>12</td>\n",
              "    </tr>\n",
              "  </tbody>\n",
              "</table>\n",
              "<p>96 rows × 20 columns</p>\n",
              "</div>"
            ],
            "text/plain": [
              "    Year-Month  Monthly Nominal GDP Index (inMillion$)  ...  Year  Month\n",
              "0   2009 - Jan                            14421.752895  ...  2009      1\n",
              "1   2009 - Feb                            14389.200466  ...  2009      2\n",
              "2   2009 - Mar                            14340.701639  ...  2009      3\n",
              "3   2009 - Apr                            14326.815525  ...  2009      4\n",
              "4   2009 - May                            14345.904809  ...  2009      5\n",
              "..         ...                                     ...  ...   ...    ...\n",
              "91  2016 - Aug                            18741.599947  ...  2016      8\n",
              "92  2016 - Sep                            18840.309646  ...  2016      9\n",
              "93  2016 - Oct                            18740.780023  ...  2016     10\n",
              "94  2016 - Nov                            18960.461568  ...  2016     11\n",
              "95  2016 - Dec                            19015.393408  ...  2016     12\n",
              "\n",
              "[96 rows x 20 columns]"
            ]
          },
          "metadata": {
            "tags": []
          },
          "execution_count": 96
        }
      ]
    },
    {
      "cell_type": "code",
      "metadata": {
        "id": "JAU3RZNw-Qgs",
        "colab_type": "code",
        "colab": {
          "base_uri": "https://localhost:8080/",
          "height": 122
        },
        "outputId": "45a1deb7-6f94-42ae-cb98-da1b9c3dacd4"
      },
      "source": [
        "# 3. Clean Weather Dataframe  \n",
        "df_weather_file = pd.ExcelFile(data_folder + weather_file)\n",
        "df_weather = pd.read_excel(df_weather_file, sheet_name = df_weather_file.sheet_names)\n",
        "df_weather = pd.concat(df_weather[k] for k in df_weather.keys())\n",
        "\n",
        "print(\"Shape BEFORE - \", df_weather.shape)\n",
        "\n",
        "df_weather = df_weather.replace({\"Month\":month_no})\n",
        "df_weather = df_weather.apply(pd.to_numeric, errors='coerce') # Using coerce - Returns NANs if not convertible, say string values - avg, high\n",
        "df_weather = df_weather.replace('-', np.nan)\n",
        "\n",
        "df_weather['Year'] = df_weather['Year'].fillna(df_weather['Year'].mode().iat[0])\n",
        "df_weather['Month'] = df_weather['Month'].fillna(df_weather['Month'].mode().iat[0])\n",
        "df_weather[['Year','Month']] = df_weather[['Year','Month']].astype(int)\n",
        "\n",
        "df_weather.drop(['WeatherEvent'], axis=1, inplace=True)\n",
        "\n",
        "df_weather = df_weather.groupby(['Year', 'Month'], as_index=False)['Temp avg (°C)',\n",
        "      'Dew Point avg (°C)',\n",
        "      'Humidity\\xa0(%) avg',\n",
        "      'Sea Level Press.\\xa0(hPa) avg',\n",
        "      'Visibility\\xa0(km) avg', \n",
        "      'Wind\\xa0(km/h) avg','Temp high (°C)','Temp low (°C)','Dew Point high (°C)','Dew Point low (°C)','Humidity\\xa0(%) high',\n",
        "      'Humidity\\xa0(%) low','Sea Level Press.\\xa0(hPa) high','Sea Level Press.\\xa0(hPa) low','Visibility\\xa0(km) high','Visibility\\xa0(km) low',\n",
        "      'Wind\\xa0(km/h) high','Wind\\xa0(km/h) low','Precip.\\xa0(mm) sum'].mean()\n",
        "\n",
        "print(\"Train data set len - \", len(df_weather[df_weather['Year'].isin([2009, 2010, 2011, 2012, 2013, 2014])]))\n",
        "print(\"[2015, 2016] Data set len - \", len(df_weather[df_weather['Year'].isin([2015, 2016])]))\n",
        "print(\"Test data set len - \", len(df_weather[df_weather['Year'].isin([2015])]))\n"
      ],
      "execution_count": null,
      "outputs": [
        {
          "output_type": "stream",
          "text": [
            "Shape BEFORE -  (2923, 23)\n",
            "Train data set len -  72\n",
            "[2015, 2016] Data set len -  24\n",
            "Test data set len -  12\n"
          ],
          "name": "stdout"
        },
        {
          "output_type": "stream",
          "text": [
            "/usr/local/lib/python3.6/dist-packages/ipykernel_launcher.py:25: FutureWarning: Indexing with multiple keys (implicitly converted to a tuple of keys) will be deprecated, use a list instead.\n"
          ],
          "name": "stderr"
        }
      ]
    },
    {
      "cell_type": "code",
      "metadata": {
        "id": "GRx7Aoqf-5Xj",
        "colab_type": "code",
        "colab": {
          "base_uri": "https://localhost:8080/",
          "height": 34
        },
        "outputId": "3879ec4a-73cc-4f09-e303-ebaa5d3d1807"
      },
      "source": [
        "df_full = (pd.merge(df_train, df_holidays_Train, how='left', on=['Year','Month'])).merge(pd.merge(df_economic_Train, df_weather_Train, how='left', on=['Year','Month']), how = 'left', on=['Year','Month'])\n",
        "df_full.shape"
      ],
      "execution_count": null,
      "outputs": [
        {
          "output_type": "execute_result",
          "data": {
            "text/plain": [
              "(216, 17)"
            ]
          },
          "metadata": {
            "tags": []
          },
          "execution_count": 99
        }
      ]
    },
    {
      "cell_type": "code",
      "metadata": {
        "id": "LYgrT-Tv_kV0",
        "colab_type": "code",
        "colab": {
          "base_uri": "https://localhost:8080/",
          "height": 323
        },
        "outputId": "85865ff0-2744-4987-c7ec-74571eae7f38"
      },
      "source": [
        "df_full.isna().sum()\n",
        "df_full=df_full.fillna(0)\n",
        "df_full.isna().sum()"
      ],
      "execution_count": null,
      "outputs": [
        {
          "output_type": "execute_result",
          "data": {
            "text/plain": [
              "Year                                              0\n",
              "Month                                             0\n",
              "ProductCategory                                   0\n",
              "Sales(In ThousandDollars)                         0\n",
              "DayCategory_Event                                 0\n",
              "DayCategory_Federal Holiday                       0\n",
              "Monthly Real GDP Index (inMillion$)               0\n",
              "CPI                                               0\n",
              "unemployment rate                                 0\n",
              "Earnings or wages  in dollars per hour            0\n",
              "Cotton Monthly Price - US cents per Pound(lbs)    0\n",
              "Temp avg (°C)                                     0\n",
              "Dew Point avg (°C)                                0\n",
              "Humidity (%) avg                                  0\n",
              "Sea Level Press. (hPa) avg                        0\n",
              "Visibility (km) avg                               0\n",
              "Wind (km/h) avg                                   0\n",
              "dtype: int64"
            ]
          },
          "metadata": {
            "tags": []
          },
          "execution_count": 104
        }
      ]
    },
    {
      "cell_type": "code",
      "metadata": {
        "id": "ghBL3diH_Qng",
        "colab_type": "code",
        "colab": {}
      },
      "source": [
        "from sklearn.ensemble import ExtraTreesClassifier\n",
        "\n",
        "forest = ExtraTreesClassifier(n_estimators=250,\n",
        "                              random_state=0)\n",
        "\n",
        "X = df_full.drop(columns=['Sales(In ThousandDollars)'])\n",
        "y = df_full['Sales(In ThousandDollars)']\n",
        "\n",
        "forest.fit(X, y)\n",
        "importances = forest.feature_importances_\n",
        "std = np.std([tree.feature_importances_ for tree in forest.estimators_],\n",
        "             axis=0)\n",
        "indices = np.argsort(importances)[::-1]\n",
        "\n",
        "# Print the feature ranking\n",
        "print(\"Feature ranking:\")\n",
        "\n",
        "for f in range(X.shape[1]):\n",
        "    print(\"%d. feature %d (%f)\" % (f + 1, indices[f], importances[indices[f]]))\n",
        "\n",
        "# Plot the impurity-based feature importances of the forest\n",
        "plt.figure()\n",
        "plt.title(\"Feature importances\")\n",
        "plt.bar(range(X.shape[1]), importances[indices],\n",
        "        color=\"r\", yerr=std[indices], align=\"center\")\n",
        "plt.xticks(range(X.shape[1]), indices)\n",
        "plt.xlim([-1, X.shape[1]])\n",
        "plt.show()"
      ],
      "execution_count": null,
      "outputs": []
    },
    {
      "cell_type": "markdown",
      "metadata": {
        "id": "YGVFlq5S-5lu",
        "colab_type": "text"
      },
      "source": [
        "## **Stage 3:** Each time you submit in kaggle, ensure that the code given by you in Stage2 gives the same result. Follow the steps for the validation:\n",
        "### a) Enter your Kaggle RMSE in the form below \n",
        "### b) After entering RMSE below, go to File->'Save and pin revision' (To ensure you do so, you are asked to mark 'Yes' to the instruction asking the same)\n",
        "**Note: The Shortcut for 'Save and pin revision' is Ctrl+M+S**</br>\n",
        "**Note: You can check if the action has succeeded by going to File->Revision History and you'll find \"PIN\" checkbox checked if successful.** \n",
        "\n",
        "\n",
        "- This action ensures there is 'proof of code' for each submission you make.\n",
        "- If you submit your results in Kaggle, and get a leaderboard RMSE score, but you don't follow the steps asked above, then your **score will NOT be considered**, as we don't have the proof of your code. (We map the 'proof of code' by mapping it to your \"RMSE+Time of save+pin\"). In other words, if you want your RMSE score to be considered you have to follow the process. \n",
        "- However for trial submission (RMSE scores you don't care about being considered, as you're still experimenting in your initial attempts) you don't have to follow the process above.\n",
        "- **One member from your team can collect all your team-members colab shared links and email them to aimlkaggle@gmail.com as per deadlines.** Ensure to give view access to aimlkaggle@gmail.com.\n",
        "- **FINALLY: \"Do NOT download and reupload this file as all the revision history will be lost\"**\n",
        "\n",
        "\n"
      ]
    },
    {
      "cell_type": "markdown",
      "metadata": {
        "id": "HCN6tpMYdO_Q",
        "colab_type": "text"
      },
      "source": [
        "# Submit your RMSE value below:\n",
        "\n",
        "Eg:   RMSEValue:     234.07"
      ]
    },
    {
      "cell_type": "code",
      "metadata": {
        "colab_type": "code",
        "cellView": "form",
        "id": "5sq1fxLpRyGC",
        "colab": {}
      },
      "source": [
        "#@title Submission details are:\n",
        "\n",
        "RMSEValue = '255.41124' #@param {type:\"string\"}\n",
        "Execute_Save_and_Pin_revision_now = 'Yes' #@param ['Yes','No']\n"
      ],
      "execution_count": null,
      "outputs": []
    }
  ]
}