{
  "cells": [
    {
      "cell_type": "markdown",
      "metadata": {
        "id": "-ISPIMte0E8n"
      },
      "source": [
        "# **<span style=\"color:#F7B2B0;\">Goal / Problem Statement</span>**\n",
        "\n",
        "The WiDS Datathon 2023 is a prediction problem involving forecasting sub-seasonal temperatures.\n",
        "\n",
        "The task is to predict the arithmetic mean of the maximum and minimum temperature over over a two-week period/the next 14 days, for each location and start date within the United States.\n",
        "\n",
        "**Target**: contest-tmp2m-14d__tmp2m: the arithmetic mean of the max and min observed temperature over the next 14 days for each location and start date, computed as (measured max temperature + measured min temperature) / 2\n",
        "\n",
        "# **<span style=\"color:#F7B2B0;\">Data Description</span>**\n",
        "The dataset consists of weather and climate information for a number of US locations, for a number of start dates for the two-week observation, as well as the forecasted temperature and precipitation from a number of weather forecast models. Each row in the data corresponds to a single location and a single start date for the two-week period.\n",
        "\n",
        "# **<span style=\"color:#F7B2B0;\">Model Evaluation Metric</span>**\n",
        "\n",
        "The evaluation metric for this competition is Root Mean Squared Error (RMSE)."
      ]
    },
    {
      "cell_type": "code",
      "execution_count": null,
      "metadata": {
        "id": "xt-W5buZUlaA"
      },
      "outputs": [],
      "source": [
        "# pip install catboost"
      ]
    },
    {
      "cell_type": "code",
      "execution_count": null,
      "metadata": {
        "colab": {
          "base_uri": "https://localhost:8080/"
        },
        "id": "oTptE1UZ0Dvt",
        "outputId": "8bca4b57-a575-4d0b-dffe-d24753335a51"
      },
      "outputs": [
        {
          "name": "stdout",
          "output_type": "stream",
          "text": [
            "Libraries Imported Succesfully!\n"
          ]
        }
      ],
      "source": [
        "import warnings\n",
        "warnings.filterwarnings('ignore')\n",
        "\n",
        "### Date & Time\n",
        "from datetime import datetime\n",
        "\n",
        "### Data Processing\n",
        "import numpy as np\n",
        "import pandas as pd\n",
        "\n",
        "### Data Stats\n",
        "from scipy import stats\n",
        "import statsmodels.formula.api as sm\n",
        "\n",
        "### Visualization\n",
        "import matplotlib.pyplot as plt\n",
        "plt.rcParams.update({'font.size': 18})\n",
        "plt.style.use('ggplot')\n",
        "import seaborn as sns\n",
        "\n",
        "### Data Transformation\n",
        "from sklearn.preprocessing import LabelEncoder, OneHotEncoder, StandardScaler\n",
        "from sklearn.decomposition import PCA\n",
        "\n",
        "### ML Model Building\n",
        "from sklearn.model_selection import train_test_split\n",
        "\n",
        "### ML Models/Algorithms\n",
        "from sklearn.svm import SVC\n",
        "\n",
        "### ML Model Evaluation\n",
        "from sklearn import metrics\n",
        "from sklearn.metrics import mean_squared_error, confusion_matrix\n",
        "\n",
        "np.random.seed(123)\n",
        "import joblib\n",
        "\n",
        "# ols library\n",
        "import statsmodels.api as sm\n",
        "import statsmodels.formula.api as smf\n",
        "\n",
        "import missingno as mno\n",
        "from sklearn.cluster import DBSCAN\n",
        "from sklearn.cluster import OPTICS\n",
        "\n",
        "# import zscore for scaling the data\n",
        "from scipy.stats import zscore\n",
        "from sklearn.preprocessing import StandardScaler, MinMaxScaler, PowerTransformer, RobustScaler\n",
        "\n",
        "# from sklearn.metrics import silhouette_score\n",
        "# from sklearn.cluster import KMeans\n",
        "\n",
        "# pre-processing methods\n",
        "from sklearn.preprocessing import PolynomialFeatures\n",
        "\n",
        "from sklearn.compose import TransformedTargetRegressor\n",
        "\n",
        "# the regression models\n",
        "from sklearn.linear_model import LinearRegression\n",
        "from sklearn.linear_model import Ridge,Lasso\n",
        "from sklearn.neighbors import KNeighborsRegressor\n",
        "from sklearn.svm import SVR\n",
        "from sklearn.tree import DecisionTreeRegressor\n",
        "from sklearn.ensemble import BaggingRegressor\n",
        "from sklearn.ensemble import ExtraTreesRegressor\n",
        "from sklearn.ensemble import RandomForestRegressor\n",
        "from sklearn.ensemble import AdaBoostRegressor\n",
        "from sklearn.ensemble import GradientBoostingRegressor\n",
        "from xgboost import XGBRegressor\n",
        "# from catboost import CatBoostRegressor\n",
        "from lightgbm import LGBMRegressor\n",
        "\n",
        "# cross-validation methods\n",
        "from sklearn.model_selection import KFold, GridSearchCV, RandomizedSearchCV\n",
        "\n",
        "from sklearn.pipeline import Pipeline\n",
        "\n",
        "# feature-selection methods\n",
        "from sklearn.feature_selection import SelectFromModel\n",
        "\n",
        "# bootstrap sampling\n",
        "from sklearn.utils import resample\n",
        "\n",
        "print('Libraries Imported Succesfully!')"
      ]
    },
    {
      "cell_type": "code",
      "execution_count": null,
      "metadata": {
        "colab": {
          "base_uri": "https://localhost:8080/"
        },
        "id": "eXcj1lDBbrPe",
        "outputId": "826f2a4e-518f-44d1-c7d6-c004c25dce84"
      },
      "outputs": [
        {
          "name": "stdout",
          "output_type": "stream",
          "text": [
            "Features & Target Files Read Succesfully!\n"
          ]
        }
      ],
      "source": [
        "features = pd.read_csv(\"/content/drive/MyDrive/1_WiDS-Datathon-Kaggle_Feb2023/input/features_70.csv\")\n",
        "target = pd.read_csv(\"/content/drive/MyDrive/1_WiDS-Datathon-Kaggle_Feb2023/input/target_70.csv\")\n",
        "print('Features & Target Files Read Succesfully!')"
      ]
    },
    {
      "cell_type": "code",
      "execution_count": null,
      "metadata": {
        "colab": {
          "base_uri": "https://localhost:8080/"
        },
        "id": "xY8jOalrxhNf",
        "outputId": "54ce0acc-8554-4359-dbce-cfc2f59f7367"
      },
      "outputs": [
        {
          "data": {
            "text/plain": [
              "((375734, 115), 375734)"
            ]
          },
          "execution_count": 7,
          "metadata": {},
          "output_type": "execute_result"
        }
      ],
      "source": [
        "features.shape, len(target)"
      ]
    },
    {
      "cell_type": "code",
      "execution_count": null,
      "metadata": {
        "colab": {
          "base_uri": "https://localhost:8080/"
        },
        "id": "mKFzOvxzXlOF",
        "outputId": "9bf6664d-8e54-4957-cd4d-8216e43588bf"
      },
      "outputs": [
        {
          "data": {
            "text/plain": [
              "((300587, 115), (75147, 115), 300587, 75147)"
            ]
          },
          "execution_count": 8,
          "metadata": {},
          "output_type": "execute_result"
        }
      ],
      "source": [
        "train_features, val_features, train_target, val_target = train_test_split(features, target, test_size = 0.20, random_state = 1)\n",
        "train_features.shape, val_features.shape, len(train_target), len(val_target)"
      ]
    },
    {
      "cell_type": "markdown",
      "metadata": {
        "id": "qGg_0TNkh7Ec"
      },
      "source": [
        "### Model Definition"
      ]
    },
    {
      "cell_type": "code",
      "execution_count": null,
      "metadata": {
        "id": "wXRi3HYVFpg8"
      },
      "outputs": [],
      "source": [
        "def train_validate_model(model, name, train_features, val_features, train_target, val_target, index):\n",
        "\n",
        "  # print(model)\n",
        "\n",
        "  pipeline = Pipeline([('model', model)])\n",
        "\n",
        "  pipeline.fit(train_features, train_target) # Fit Model on Train Dataset\n",
        "  predictions_ = pipeline.predict(val_features) # Make Predictions on Validation Dataset\n",
        "  predictions = np.rint(predictions_)\n",
        "\n",
        "  r2 = metrics.r2_score(val_target, predictions) ### R2 on Validation Predictions\n",
        "  rmse = np.sqrt(metrics.mean_squared_error(val_target, predictions)) ### RMSE on Validation Predictions\n",
        "\n",
        "  ### Train Accuracy\n",
        "  train_acc_score = pipeline.score(train_features, train_target)\n",
        "\n",
        "  ### Validation Accuracy\n",
        "  val_acc_score = pipeline.score(val_features, val_target)\n",
        "\n",
        "  resultsdf = pd.DataFrame({'Model Name': name, 'R Squared Error':round(r2,2), 'RMSE Error':round(rmse,2), 'Train Accuracy':round(train_acc_score*100,2),\n",
        "                           'Validation Accuracy':round(val_acc_score*100,2)}, index=[index])\n",
        "\n",
        "  print('Model Metrics:\\n', resultsdf)\n",
        "  print('**************************************************')\n",
        "\n",
        "  return resultsdf, pipeline, predictions\n"
      ]
    },
    {
      "cell_type": "markdown",
      "metadata": {
        "id": "kRr2yp3-L3SH"
      },
      "source": [
        "### Define ML Regression Models"
      ]
    },
    {
      "cell_type": "code",
      "execution_count": null,
      "metadata": {
        "id": "FN-VhWz-L1J6"
      },
      "outputs": [],
      "source": [
        "index = 1\n",
        "resultsDf = pd.DataFrame()\n",
        "\n",
        "models=[\n",
        "    # ['SVR', SVR(kernel='rbf')],\n",
        "    # ['SVR', SVR(kernel='linear')],\n",
        "\n",
        "    # ['LinearRegression',LinearRegression()],\n",
        "    # ['Ridge',Ridge(random_state = 1)],\n",
        "    # ['Lasso',Lasso(random_state = 1)],\n",
        "\n",
        "    # ['KNeighborsRegressor',KNeighborsRegressor(n_neighbors = 3)],\n",
        "\n",
        "    # ['DecisionTreeRegressor', DecisionTreeRegressor(random_state=1)],\n",
        "    # R Squared Error  RMSE Error  Train Accuracy  Validation Accuracy\n",
        "    # 1   0.99              0.92           100.0   99.23\n",
        "\n",
        "    ['RandomForestRegressor', RandomForestRegressor(random_state=1)],\n",
        "    # R Squared Error  RMSE Error  Train Accuracy Validation Accuracy\n",
        "    # 1.0             0.56           99.97                   99.77\n",
        "\n",
        "    # ['CatBoostRegressor', CatBoostRegressor(random_state=1, verbose=False)],\n",
        "    # ['BaggingRegressor', BaggingRegressor(random_state=1)],\n",
        "\n",
        "    # ['ExtraTreesRegressor', ExtraTreesRegressor(random_state=1)],\n",
        "    # ['AdaBoostRegressor', AdaBoostRegressor(random_state=1)],\n",
        "    # ['GradientBoostingRegressor', GradientBoostingRegressor(random_state=1)],\n",
        "\n",
        "    # ['XGBRegressor', XGBRegressor()]\n",
        "    ]"
      ]
    },
    {
      "cell_type": "code",
      "execution_count": null,
      "metadata": {
        "colab": {
          "background_save": true
        },
        "id": "G41JHfyZWSLk",
        "outputId": "60205d36-9ea6-4e23-98b1-892dcaa7af23"
      },
      "outputs": [
        {
          "name": "stdout",
          "output_type": "stream",
          "text": [
            "Model Metrics:\n",
            "               Model Name  R Squared Error  RMSE Error  Train Accuracy  \\\n",
            "1  RandomForestRegressor              1.0        0.51           99.97   \n",
            "\n",
            "   Validation Accuracy  \n",
            "1                99.81  \n",
            "**************************************************\n"
          ]
        }
      ],
      "source": [
        "for name, regressor in models:\n",
        "  # Train and Test the model\n",
        "  tmp_resultsDf, model, predictions = train_validate_model(regressor, name, train_features, val_features, train_target, val_target, index)\n",
        "\n",
        "  # Store the accuracy results for each model in a dataframe for final comparison\n",
        "  resultsDf = pd.concat([resultsDf, tmp_resultsDf])\n",
        "\n",
        "  index = index + 1\n",
        "\n",
        "  # R Squared Error  RMSE Error  Train Accuracy  Validation Accuracy\n",
        "  # 0.98\t            1.27\t          99.78\t       98.43 - PCA 50 - 6.379 with Corr 0.6\n",
        "  # 0.96\t            1.88\t          99.5\t       96.46 - PCA 10 - 11.61 with Corr 0.6\n",
        "\n",
        "  # All Terminated to choose Optimal PCs - 28 now\n",
        "  # 0.97              1.59            99.65        97.49 - PCA - 28 (Optimal n) with Corr 0.6\n",
        "  # 0.97              1.56            99.66        97.58 - PCA - 26 (Optimal n) with Corr 0.5\n",
        "\n",
        "  # 0.97              1.56            99.66        97.58   - PCA - 26 (Optimal n) with Corr 0.7\n",
        "  # 1.0               0.51            99.97        99.81  - with Corr 0.7; No PCA\n"
      ]
    },
    {
      "cell_type": "code",
      "execution_count": null,
      "metadata": {
        "colab": {
          "background_save": true
        },
        "id": "aAmaMRYWW0hy",
        "outputId": "661b4f48-3e3e-4b89-de1a-867331135483"
      },
      "outputs": [
        {
          "data": {
            "text/html": [
              "\n",
              "  <div id=\"df-621db07f-8b8c-423b-9622-80e5743b98f4\">\n",
              "    <div class=\"colab-df-container\">\n",
              "      <div>\n",
              "<style scoped>\n",
              "    .dataframe tbody tr th:only-of-type {\n",
              "        vertical-align: middle;\n",
              "    }\n",
              "\n",
              "    .dataframe tbody tr th {\n",
              "        vertical-align: top;\n",
              "    }\n",
              "\n",
              "    .dataframe thead th {\n",
              "        text-align: right;\n",
              "    }\n",
              "</style>\n",
              "<table border=\"1\" class=\"dataframe\">\n",
              "  <thead>\n",
              "    <tr style=\"text-align: right;\">\n",
              "      <th></th>\n",
              "      <th>Model Name</th>\n",
              "      <th>R Squared Error</th>\n",
              "      <th>RMSE Error</th>\n",
              "      <th>Train Accuracy</th>\n",
              "      <th>Validation Accuracy</th>\n",
              "    </tr>\n",
              "  </thead>\n",
              "  <tbody>\n",
              "    <tr>\n",
              "      <th>1</th>\n",
              "      <td>RandomForestRegressor</td>\n",
              "      <td>1.0</td>\n",
              "      <td>0.51</td>\n",
              "      <td>99.97</td>\n",
              "      <td>99.81</td>\n",
              "    </tr>\n",
              "  </tbody>\n",
              "</table>\n",
              "</div>\n",
              "      <button class=\"colab-df-convert\" onclick=\"convertToInteractive('df-621db07f-8b8c-423b-9622-80e5743b98f4')\"\n",
              "              title=\"Convert this dataframe to an interactive table.\"\n",
              "              style=\"display:none;\">\n",
              "        \n",
              "  <svg xmlns=\"http://www.w3.org/2000/svg\" height=\"24px\"viewBox=\"0 0 24 24\"\n",
              "       width=\"24px\">\n",
              "    <path d=\"M0 0h24v24H0V0z\" fill=\"none\"/>\n",
              "    <path d=\"M18.56 5.44l.94 2.06.94-2.06 2.06-.94-2.06-.94-.94-2.06-.94 2.06-2.06.94zm-11 1L8.5 8.5l.94-2.06 2.06-.94-2.06-.94L8.5 2.5l-.94 2.06-2.06.94zm10 10l.94 2.06.94-2.06 2.06-.94-2.06-.94-.94-2.06-.94 2.06-2.06.94z\"/><path d=\"M17.41 7.96l-1.37-1.37c-.4-.4-.92-.59-1.43-.59-.52 0-1.04.2-1.43.59L10.3 9.45l-7.72 7.72c-.78.78-.78 2.05 0 2.83L4 21.41c.39.39.9.59 1.41.59.51 0 1.02-.2 1.41-.59l7.78-7.78 2.81-2.81c.8-.78.8-2.07 0-2.86zM5.41 20L4 18.59l7.72-7.72 1.47 1.35L5.41 20z\"/>\n",
              "  </svg>\n",
              "      </button>\n",
              "      \n",
              "  <style>\n",
              "    .colab-df-container {\n",
              "      display:flex;\n",
              "      flex-wrap:wrap;\n",
              "      gap: 12px;\n",
              "    }\n",
              "\n",
              "    .colab-df-convert {\n",
              "      background-color: #E8F0FE;\n",
              "      border: none;\n",
              "      border-radius: 50%;\n",
              "      cursor: pointer;\n",
              "      display: none;\n",
              "      fill: #1967D2;\n",
              "      height: 32px;\n",
              "      padding: 0 0 0 0;\n",
              "      width: 32px;\n",
              "    }\n",
              "\n",
              "    .colab-df-convert:hover {\n",
              "      background-color: #E2EBFA;\n",
              "      box-shadow: 0px 1px 2px rgba(60, 64, 67, 0.3), 0px 1px 3px 1px rgba(60, 64, 67, 0.15);\n",
              "      fill: #174EA6;\n",
              "    }\n",
              "\n",
              "    [theme=dark] .colab-df-convert {\n",
              "      background-color: #3B4455;\n",
              "      fill: #D2E3FC;\n",
              "    }\n",
              "\n",
              "    [theme=dark] .colab-df-convert:hover {\n",
              "      background-color: #434B5C;\n",
              "      box-shadow: 0px 1px 3px 1px rgba(0, 0, 0, 0.15);\n",
              "      filter: drop-shadow(0px 1px 2px rgba(0, 0, 0, 0.3));\n",
              "      fill: #FFFFFF;\n",
              "    }\n",
              "  </style>\n",
              "\n",
              "      <script>\n",
              "        const buttonEl =\n",
              "          document.querySelector('#df-621db07f-8b8c-423b-9622-80e5743b98f4 button.colab-df-convert');\n",
              "        buttonEl.style.display =\n",
              "          google.colab.kernel.accessAllowed ? 'block' : 'none';\n",
              "\n",
              "        async function convertToInteractive(key) {\n",
              "          const element = document.querySelector('#df-621db07f-8b8c-423b-9622-80e5743b98f4');\n",
              "          const dataTable =\n",
              "            await google.colab.kernel.invokeFunction('convertToInteractive',\n",
              "                                                     [key], {});\n",
              "          if (!dataTable) return;\n",
              "\n",
              "          const docLinkHtml = 'Like what you see? Visit the ' +\n",
              "            '<a target=\"_blank\" href=https://colab.research.google.com/notebooks/data_table.ipynb>data table notebook</a>'\n",
              "            + ' to learn more about interactive tables.';\n",
              "          element.innerHTML = '';\n",
              "          dataTable['output_type'] = 'display_data';\n",
              "          await google.colab.output.renderOutput(dataTable, element);\n",
              "          const docLink = document.createElement('div');\n",
              "          docLink.innerHTML = docLinkHtml;\n",
              "          element.appendChild(docLink);\n",
              "        }\n",
              "      </script>\n",
              "    </div>\n",
              "  </div>\n",
              "  "
            ],
            "text/plain": [
              "              Model Name  R Squared Error  RMSE Error  Train Accuracy  \\\n",
              "1  RandomForestRegressor              1.0        0.51           99.97   \n",
              "\n",
              "   Validation Accuracy  \n",
              "1                99.81  "
            ]
          },
          "execution_count": 12,
          "metadata": {},
          "output_type": "execute_result"
        }
      ],
      "source": [
        "resultsDf"
      ]
    },
    {
      "cell_type": "code",
      "execution_count": null,
      "metadata": {
        "colab": {
          "base_uri": "https://localhost:8080/"
        },
        "id": "kk8x7AAY2DIo",
        "outputId": "45b293ee-c72a-4d0c-a2e5-b16a378efe3d"
      },
      "outputs": [
        {
          "output_type": "stream",
          "name": "stdout",
          "text": [
            "Region RF Model pickle file saved successfully!\n"
          ]
        }
      ],
      "source": [
        "model_FileName = '/content/drive/MyDrive/1_WiDS-Datathon-Kaggle_Feb2023/input/RF_Model_New.pkl'\n",
        "joblib.dump(model,  model_FileName)\n",
        "print('Region RF Model pickle file saved successfully!')"
      ]
    },
    {
      "cell_type": "markdown",
      "metadata": {
        "id": "Un-ezCc9i605"
      },
      "source": [
        "### Test Predictions"
      ]
    },
    {
      "cell_type": "code",
      "source": [
        "test = pd.read_csv('/content/drive/MyDrive/1_WiDS-Datathon-Kaggle_Feb2023/input/test_data.csv')\n",
        "# print(\"Test No of Rows \\t === \", test.shape[0])\n",
        "# print(\"Test No of Columns \\t === \", test.shape[1])\n",
        "#\n",
        "print('Test Dimension === ', test.shape)\n",
        "# print('Test Columns === ', test.columns.to_list())"
      ],
      "metadata": {
        "colab": {
          "base_uri": "https://localhost:8080/"
        },
        "id": "WOoYHoHpPFNR",
        "outputId": "b94e1a8b-812e-4fc2-b955-42cf1a105295"
      },
      "execution_count": null,
      "outputs": [
        {
          "output_type": "stream",
          "name": "stdout",
          "text": [
            "Test Dimension ===  (31354, 245)\n"
          ]
        }
      ]
    },
    {
      "cell_type": "code",
      "source": [
        "features_train = pd.read_csv(\"/content/drive/MyDrive/1_WiDS-Datathon-Kaggle_Feb2023/input/features_70.csv\")\n",
        "print('Train Dimension: ', features_train.shape)\n",
        "\n",
        "train_cols = features_train.columns.to_list()\n",
        "print('Train Columns: ', len(train_cols))"
      ],
      "metadata": {
        "colab": {
          "base_uri": "https://localhost:8080/"
        },
        "id": "WBiGQoyqPihd",
        "outputId": "808c7362-11c3-49d7-c6be-77e950bebc5f"
      },
      "execution_count": null,
      "outputs": [
        {
          "output_type": "stream",
          "name": "stdout",
          "text": [
            "Train Dimension:  (375734, 115)\n",
            "Train Columns:  115\n"
          ]
        }
      ]
    },
    {
      "cell_type": "code",
      "source": [
        "# test.info()\n",
        "\n",
        "print(test.select_dtypes(include=['object']).columns)\n",
        "\n",
        "print('Test Dimension === ', test.shape)\n",
        "\n",
        "test['startdate'] = pd.to_datetime(test['startdate'])\n",
        "print('Min/Max - Start Date', test['startdate'].min(), ' & ', test['startdate'].max())\n",
        "\n",
        "print('NANs === ', test.isna().sum().sum()) #\n",
        "# print('Test Dimension Before Dropping NANs Rows: ', test.shape)\n",
        "# print(test.isna().sum().sum())\n",
        "\n",
        "# test_1 = test.dropna()\n",
        "# print('Test Dimension After Dropping NANs Rows: ', test_1.shape)\n",
        "# test_1.head(1)"
      ],
      "metadata": {
        "colab": {
          "base_uri": "https://localhost:8080/"
        },
        "id": "JA0szJ1hPkMY",
        "outputId": "646ca39c-8cdb-432c-9ebc-c1dff7cb4e61"
      },
      "execution_count": null,
      "outputs": [
        {
          "output_type": "stream",
          "name": "stdout",
          "text": [
            "Index(['startdate', 'climateregions__climateregion'], dtype='object')\n",
            "Test Dimension ===  (31354, 245)\n",
            "Min/Max - Start Date 2022-11-01 00:00:00  &  2022-12-31 00:00:00\n",
            "NANs ===  0\n"
          ]
        }
      ]
    },
    {
      "cell_type": "code",
      "source": [
        "test.drop(columns=['startdate'], inplace=True)\n",
        "print(test.shape)\n",
        "\n",
        "print(test.select_dtypes(include=['object']).columns)"
      ],
      "metadata": {
        "colab": {
          "base_uri": "https://localhost:8080/"
        },
        "id": "xCW5hOLuPlHp",
        "outputId": "312ace2f-747f-4f39-88d6-cac549c09f91"
      },
      "execution_count": null,
      "outputs": [
        {
          "output_type": "stream",
          "name": "stdout",
          "text": [
            "(31354, 244)\n",
            "Index(['climateregions__climateregion'], dtype='object')\n"
          ]
        }
      ]
    },
    {
      "cell_type": "code",
      "source": [
        "leRegionEnc_FileName = r'/content/drive/MyDrive/1_WiDS-Datathon-Kaggle_Feb2023/input/leRegionEncoder.pkl'\n",
        "le = joblib.load(leRegionEnc_FileName)\n",
        "print('Region Label Encoder pickle file loaded successfully!')\n",
        "\n",
        "test['climateregions__climateregion'] = le.transform(test['climateregions__climateregion'])\n",
        "print(test.shape)"
      ],
      "metadata": {
        "colab": {
          "base_uri": "https://localhost:8080/"
        },
        "id": "_hA25jAyPm4v",
        "outputId": "9f292e45-441d-4458-c07b-6a17a6efb955"
      },
      "execution_count": null,
      "outputs": [
        {
          "output_type": "stream",
          "name": "stdout",
          "text": [
            "Region Label Encoder pickle file loaded successfully!\n",
            "(31354, 244)\n"
          ]
        }
      ]
    },
    {
      "cell_type": "code",
      "source": [
        "test = test.reindex(columns=features_train.columns, fill_value=0)\n",
        "print(test.shape)"
      ],
      "metadata": {
        "colab": {
          "base_uri": "https://localhost:8080/"
        },
        "id": "uyFcOOsyPoXi",
        "outputId": "ca7cc220-69c3-47a9-984e-d086979eb7d1"
      },
      "execution_count": null,
      "outputs": [
        {
          "output_type": "stream",
          "name": "stdout",
          "text": [
            "(31354, 115)\n"
          ]
        }
      ]
    },
    {
      "cell_type": "code",
      "source": [
        "RF_Predictions_Shakti_2 = pd.read_csv('/content/drive/MyDrive/1_WiDS-Datathon-Kaggle_Feb2023/input/sample_solution.csv')\n",
        "print('Before Predictions: ', RF_Predictions_Shakti_2.shape)\n",
        "\n",
        "# RF_Predictions_Shakti_2['contest-tmp2m-14d__tmp2m'] = rfModel.predict(df_features_pca_test.values)\n",
        "\n",
        "RF_Predictions_Shakti_2['contest-tmp2m-14d__tmp2m'] = model.predict(test.values)\n",
        "\n",
        "RF_Predictions_Shakti_2.to_csv('/content/drive/MyDrive/1_WiDS-Datathon-Kaggle_Feb2023/input/submission-0.7Corr.csv',index = False)\n",
        "\n",
        "print('After Predictions: ',RF_Predictions_Shakti_2.shape)"
      ],
      "metadata": {
        "colab": {
          "base_uri": "https://localhost:8080/"
        },
        "id": "479iEenRPqZ-",
        "outputId": "58aa3c72-4f06-4728-c129-b986caf3ae5a"
      },
      "execution_count": null,
      "outputs": [
        {
          "output_type": "stream",
          "name": "stdout",
          "text": [
            "Before Predictions:  (31354, 2)\n",
            "After Predictions:  (31354, 2)\n"
          ]
        }
      ]
    },
    {
      "cell_type": "code",
      "source": [],
      "metadata": {
        "id": "TvKAr6H7Pt7h"
      },
      "execution_count": null,
      "outputs": []
    }
  ],
  "metadata": {
    "colab": {
      "provenance": []
    },
    "kernelspec": {
      "display_name": "Python 3",
      "name": "python3"
    },
    "language_info": {
      "name": "python"
    }
  },
  "nbformat": 4,
  "nbformat_minor": 0
}